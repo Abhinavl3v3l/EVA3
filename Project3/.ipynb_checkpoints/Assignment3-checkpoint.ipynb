{
 "cells": [
  {
   "cell_type": "markdown",
   "metadata": {
    "colab_type": "text",
    "id": "view-in-github"
   },
   "source": [
    "<a href=\"https://colab.research.google.com/github/Abhinavl3v3l/EVA3/blob/master/Assignment3.ipynb\" target=\"_parent\"><img src=\"https://colab.research.google.com/assets/colab-badge.svg\" alt=\"Open In Colab\"/></a>"
   ]
  },
  {
   "cell_type": "markdown",
   "metadata": {
    "colab_type": "text",
    "id": "aNyZv-Ec52ot"
   },
   "source": [
    "# **Import Libraries and modules**"
   ]
  },
  {
   "cell_type": "code",
   "execution_count": 0,
   "metadata": {
    "colab": {},
    "colab_type": "code",
    "id": "3m3w1Cw49Zkt"
   },
   "outputs": [],
   "source": [
    "# https://keras.io/\n",
    "!pip install -q keras\n",
    "import keras"
   ]
  },
  {
   "cell_type": "code",
   "execution_count": 0,
   "metadata": {
    "colab": {},
    "colab_type": "code",
    "id": "Eso6UHE080D4"
   },
   "outputs": [],
   "source": [
    "import numpy as np\n",
    "\n",
    "from keras.models import Sequential\n",
    "from keras.layers import Dense, Dropout, Activation, Flatten, Add\n",
    "from keras.layers import Convolution2D, MaxPooling2D\n",
    "from keras.utils import np_utils\n",
    "\n",
    "from keras.datasets import mnist                                                # Importing Necessary Libraries and dataset(in keras)"
   ]
  },
  {
   "cell_type": "markdown",
   "metadata": {
    "colab_type": "text",
    "id": "zByEi95J86RD"
   },
   "source": [
    "### Load pre-shuffled MNIST data into train and test sets"
   ]
  },
  {
   "cell_type": "code",
   "execution_count": 0,
   "metadata": {
    "colab": {},
    "colab_type": "code",
    "id": "7eRM0QWN83PV"
   },
   "outputs": [],
   "source": [
    "(X_train, y_train), (X_test, y_test) = mnist.load_data()                        # mnist data divided into Training and Test Data\n",
    "                                                                                # Where X_train are 60K 28x28 gray scale training images of numbers from [0-9] \n",
    "                                                                                # y_train are label of numbers from [0-9]"
   ]
  },
  {
   "cell_type": "markdown",
   "metadata": {
    "colab_type": "text",
    "id": "mJQpLXHL20uf"
   },
   "source": []
  },
  {
   "cell_type": "code",
   "execution_count": 229,
   "metadata": {
    "colab": {
     "base_uri": "https://localhost:8080/",
     "height": 304
    },
    "colab_type": "code",
    "id": "4a4Be72j8-ZC",
    "outputId": "bbe39a83-cd74-4bde-8498-1085e65b7e7e"
   },
   "outputs": [
    {
     "name": "stdout",
     "output_type": "stream",
     "text": [
      "(60000, 28, 28)\n"
     ]
    },
    {
     "data": {
      "text/plain": [
       "<matplotlib.image.AxesImage at 0x7f6ec123f4a8>"
      ]
     },
     "execution_count": 229,
     "metadata": {
      "tags": []
     },
     "output_type": "execute_result"
    },
    {
     "data": {
      "image/png": "[encoded data removed]",
      "text/plain": [
       "<Figure size 432x288 with 1 Axes>"
      ]
     },
     "metadata": {
      "tags": []
     },
     "output_type": "display_data"
    }
   ],
   "source": [
    "print (X_train.shape)\n",
    "from matplotlib import pyplot as plt\n",
    "%matplotlib inline\n",
    "plt.imshow(X_train[0])                                                           # Displaying what one of the images look like."
   ]
  },
  {
   "cell_type": "code",
   "execution_count": 0,
   "metadata": {
    "colab": {},
    "colab_type": "code",
    "id": "dkmprriw9AnZ"
   },
   "outputs": [],
   "source": [
    "X_train = X_train.reshape(X_train.shape[0], 28, 28,1)                           # (60000, 28, 28) ->  (60000, 28, 28, 1)\n",
    "X_test = X_test.reshape(X_test.shape[0], 28, 28,1)"
   ]
  },
  {
   "cell_type": "code",
   "execution_count": 0,
   "metadata": {
    "colab": {},
    "colab_type": "code",
    "id": "X2m4YS4E9CRh"
   },
   "outputs": [],
   "source": [
    "X_train = X_train.astype('float32')                                             # Convert to float type\n",
    "X_test = X_test.astype('float32') \n",
    "X_train /= 255\n",
    "X_test /= 255                                                                   # Floating Value ranges from [0,1]"
   ]
  },
  {
   "cell_type": "code",
   "execution_count": 232,
   "metadata": {
    "colab": {
     "base_uri": "https://localhost:8080/",
     "height": 34
    },
    "colab_type": "code",
    "id": "0Mn0vAYD9DvB",
    "outputId": "ed8cf8fb-d1af-4f05-ca78-bce63b08cf9f"
   },
   "outputs": [
    {
     "data": {
      "text/plain": [
       "array([5, 0, 4, 1, 9, 2, 1, 3, 1, 4], dtype=uint8)"
      ]
     },
     "execution_count": 232,
     "metadata": {
      "tags": []
     },
     "output_type": "execute_result"
    }
   ],
   "source": [
    "y_train[:10]"
   ]
  },
  {
   "cell_type": "code",
   "execution_count": 0,
   "metadata": {
    "colab": {},
    "colab_type": "code",
    "id": "ZG8JiXR39FHC"
   },
   "outputs": [],
   "source": [
    "# Convert 1-dimensional class arrays to 10-dimensional class matrices\n",
    "Y_train = np_utils.to_categorical(y_train, 10)                                  \n",
    "Y_test = np_utils.to_categorical(y_test, 10)"
   ]
  },
  {
   "cell_type": "code",
   "execution_count": 234,
   "metadata": {
    "colab": {
     "base_uri": "https://localhost:8080/",
     "height": 194
    },
    "colab_type": "code",
    "id": "fYlFRvKS9HMB",
    "outputId": "23955029-0595-4eea-c748-513dd62af5fe"
   },
   "outputs": [
    {
     "data": {
      "text/plain": [
       "array([[0., 0., 0., 0., 0., 1., 0., 0., 0., 0.],\n",
       "       [1., 0., 0., 0., 0., 0., 0., 0., 0., 0.],\n",
       "       [0., 0., 0., 0., 1., 0., 0., 0., 0., 0.],\n",
       "       [0., 1., 0., 0., 0., 0., 0., 0., 0., 0.],\n",
       "       [0., 0., 0., 0., 0., 0., 0., 0., 0., 1.],\n",
       "       [0., 0., 1., 0., 0., 0., 0., 0., 0., 0.],\n",
       "       [0., 1., 0., 0., 0., 0., 0., 0., 0., 0.],\n",
       "       [0., 0., 0., 1., 0., 0., 0., 0., 0., 0.],\n",
       "       [0., 1., 0., 0., 0., 0., 0., 0., 0., 0.],\n",
       "       [0., 0., 0., 0., 1., 0., 0., 0., 0., 0.]], dtype=float32)"
      ]
     },
     "execution_count": 234,
     "metadata": {
      "tags": []
     },
     "output_type": "execute_result"
    }
   ],
   "source": [
    "Y_train[:10]                                                                    ## y_train to Y_train  - example,5 value is converted to an array where 5th element of array is 1(lit) and rest all is 0 \n",
    "                                                                                \n",
    "                                                                                # OR \n",
    "                                                                                \n",
    "                                                                                # 1 Hot Encoded  \n"
   ]
  },
  {
   "cell_type": "code",
   "execution_count": 0,
   "metadata": {
    "colab": {},
    "colab_type": "code",
    "id": "osKqT73Q9JJB"
   },
   "outputs": [],
   "source": [
    "# # Building the layers for maximum accuracy\n",
    "# from keras.layers import Activation\n",
    "# model = Sequential()\n",
    "\n",
    "\n",
    "# model.add(Convolution2D(16, (3, 3), activation='relu', input_shape=(28,28,1)))  # Input Image size 28x28x1, 3x3 convolution with 32 channels,     GRF = 3, Parameters = 3x3x32x1  + 32        = 320           Output Image = 26x26x32\n",
    "# model.add(Convolution2D(20, (3, 3), activation='relu'))  #24\n",
    "# model.add(Convolution2D(24, (3, 3), activation='relu'))  #22\n",
    "# model.add(Convolution2D(8, 1, activation='relu'))                              \n",
    "\n",
    "# model.add(MaxPooling2D(pool_size=(2, 2))) #11\n",
    "\n",
    "# model.add(Convolution2D(16, (3, 3), activation='relu'))  #9\n",
    "# model.add(Convolution2D(20, (3, 3), activation='relu'))  #7\n",
    "# model.add(Convolution2D(24, (3, 3), activation='relu'))  #5\n",
    "\n",
    "# model.add(Convolution2D(25, 1, activation='relu')) \n",
    "# model.add(Convolution2D(10, 5))\n",
    "\n",
    "# model.add(Flatten())\n",
    "# model.add(Activation('softmax'))"
   ]
  },
  {
   "cell_type": "code",
   "execution_count": 0,
   "metadata": {
    "colab": {},
    "colab_type": "code",
    "id": "7kFKpT7_YkY9"
   },
   "outputs": [],
   "source": [
    "from keras.layers import Activation\n",
    "model = Sequential()\n",
    "\n",
    "\n",
    "model.add(Convolution2D(8, (3, 3), activation='relu', input_shape=(28,28,1)))#26  \n",
    "\n",
    "model.add(Convolution2D(16, (3, 3), activation='relu'))  #24\n",
    "model.add(Convolution2D(32, (3, 3), activation='relu'))  #22\n",
    "\n",
    "model.add(Convolution2D(8, 1, activation='relu'))\n",
    "\n",
    "\n",
    "model.add(MaxPooling2D(pool_size=(2, 2))) #11\n",
    "\n",
    "model.add(Convolution2D(16, (3, 3), activation='relu'))  #9\n",
    "model.add(Convolution2D(32, (3, 3), activation='relu'))  #7\n",
    "model.add(Convolution2D(10, 1, activation='relu'))\n",
    "\n",
    "model.add(Convolution2D(20, (3, 3), activation='relu'))  #5\n",
    "\n",
    "model.add(Convolution2D(10, 5))\n",
    "model.add(Flatten())\n",
    "model.add(Activation('softmax'))"
   ]
  },
  {
   "cell_type": "code",
   "execution_count": 237,
   "metadata": {
    "colab": {
     "base_uri": "https://localhost:8080/",
     "height": 585
    },
    "colab_type": "code",
    "id": "TzdAYg1k9K7Z",
    "outputId": "66c58087-c923-4c40-cfcc-96a32dd0e0f6"
   },
   "outputs": [
    {
     "name": "stdout",
     "output_type": "stream",
     "text": [
      "Model: \"sequential_40\"\n",
      "_________________________________________________________________\n",
      "Layer (type)                 Output Shape              Param #   \n",
      "=================================================================\n",
      "conv2d_339 (Conv2D)          (None, 26, 26, 8)         80        \n",
      "_________________________________________________________________\n",
      "conv2d_340 (Conv2D)          (None, 24, 24, 16)        1168      \n",
      "_________________________________________________________________\n",
      "conv2d_341 (Conv2D)          (None, 22, 22, 32)        4640      \n",
      "_________________________________________________________________\n",
      "conv2d_342 (Conv2D)          (None, 22, 22, 8)         264       \n",
      "_________________________________________________________________\n",
      "max_pooling2d_38 (MaxPooling (None, 11, 11, 8)         0         \n",
      "_________________________________________________________________\n",
      "conv2d_343 (Conv2D)          (None, 9, 9, 16)          1168      \n",
      "_________________________________________________________________\n",
      "conv2d_344 (Conv2D)          (None, 7, 7, 32)          4640      \n",
      "_________________________________________________________________\n",
      "conv2d_345 (Conv2D)          (None, 7, 7, 10)          330       \n",
      "_________________________________________________________________\n",
      "conv2d_346 (Conv2D)          (None, 5, 5, 20)          1820      \n",
      "_________________________________________________________________\n",
      "conv2d_347 (Conv2D)          (None, 1, 1, 10)          5010      \n",
      "_________________________________________________________________\n",
      "flatten_35 (Flatten)         (None, 10)                0         \n",
      "_________________________________________________________________\n",
      "activation_35 (Activation)   (None, 10)                0         \n",
      "=================================================================\n",
      "Total params: 19,120\n",
      "Trainable params: 19,120\n",
      "Non-trainable params: 0\n",
      "_________________________________________________________________\n"
     ]
    }
   ],
   "source": [
    "model.summary()"
   ]
  },
  {
   "cell_type": "code",
   "execution_count": 0,
   "metadata": {
    "colab": {},
    "colab_type": "code",
    "id": "Zp6SuGrL9M3h"
   },
   "outputs": [],
   "source": [
    "model.compile(loss='categorical_crossentropy',                              \n",
    "             optimizer='adam',\n",
    "             metrics=['accuracy'])                                              # Compiler or function which calculate and adjust the loss using a loss function and measure in accuracy. A function which will optimize all the features generated. \n",
    "                                                                                # Optimizer."
   ]
  },
  {
   "cell_type": "code",
   "execution_count": 239,
   "metadata": {
    "colab": {
     "base_uri": "https://localhost:8080/",
     "height": 443
    },
    "colab_type": "code",
    "id": "4xWoKhPY9Of5",
    "outputId": "086379c6-ba96-4c2e-9358-a960e43ee442"
   },
   "outputs": [
    {
     "name": "stderr",
     "output_type": "stream",
     "text": [
      "/usr/local/lib/python3.6/dist-packages/ipykernel_launcher.py:1: UserWarning: The `nb_epoch` argument in `fit` has been renamed `epochs`.\n",
      "  \"\"\"Entry point for launching an IPython kernel.\n"
     ]
    },
    {
     "name": "stdout",
     "output_type": "stream",
     "text": [
      "Train on 60000 samples, validate on 10000 samples\n",
      "Epoch 1/10\n",
      "60000/60000 [==============================] - 29s 489us/step - loss: 0.2187 - acc: 0.9296 - val_loss: 0.0593 - val_acc: 0.9814\n",
      "Epoch 2/10\n",
      "60000/60000 [==============================] - 26s 433us/step - loss: 0.0722 - acc: 0.9782 - val_loss: 0.0462 - val_acc: 0.9853\n",
      "Epoch 3/10\n",
      "60000/60000 [==============================] - 26s 434us/step - loss: 0.0556 - acc: 0.9828 - val_loss: 0.0560 - val_acc: 0.9820\n",
      "Epoch 4/10\n",
      "60000/60000 [==============================] - 26s 433us/step - loss: 0.0466 - acc: 0.9854 - val_loss: 0.0564 - val_acc: 0.9820\n",
      "Epoch 5/10\n",
      "60000/60000 [==============================] - 26s 431us/step - loss: 0.0393 - acc: 0.9874 - val_loss: 0.0363 - val_acc: 0.9883\n",
      "Epoch 6/10\n",
      "60000/60000 [==============================] - 26s 430us/step - loss: 0.0346 - acc: 0.9889 - val_loss: 0.0363 - val_acc: 0.9871\n",
      "Epoch 7/10\n",
      "60000/60000 [==============================] - 26s 428us/step - loss: 0.0300 - acc: 0.9904 - val_loss: 0.0301 - val_acc: 0.9897\n",
      "Epoch 8/10\n",
      "60000/60000 [==============================] - 26s 429us/step - loss: 0.0277 - acc: 0.9913 - val_loss: 0.0311 - val_acc: 0.9898\n",
      "Epoch 9/10\n",
      "60000/60000 [==============================] - 26s 428us/step - loss: 0.0252 - acc: 0.9921 - val_loss: 0.0374 - val_acc: 0.9884\n",
      "Epoch 10/10\n",
      "60000/60000 [==============================] - 27s 443us/step - loss: 0.0231 - acc: 0.9921 - val_loss: 0.0351 - val_acc: 0.9895\n"
     ]
    },
    {
     "data": {
      "text/plain": [
       "<keras.callbacks.History at 0x7f6ec1177940>"
      ]
     },
     "execution_count": 239,
     "metadata": {
      "tags": []
     },
     "output_type": "execute_result"
    }
   ],
   "source": [
    "model.fit(X_train, Y_train, batch_size=32, nb_epoch=10, verbose=1,validation_data=(X_test, Y_test))  # Learn Learn Learn"
   ]
  },
  {
   "cell_type": "code",
   "execution_count": 240,
   "metadata": {
    "colab": {
     "base_uri": "https://localhost:8080/",
     "height": 443
    },
    "colab_type": "code",
    "id": "WnpyJzt0Uvhl",
    "outputId": "0a9f1faf-c4fb-4779-f558-723fe54584c5"
   },
   "outputs": [
    {
     "name": "stdout",
     "output_type": "stream",
     "text": [
      "Train on 60000 samples, validate on 10000 samples\n",
      "Epoch 1/10\n",
      "  320/60000 [..............................] - ETA: 27s - loss: 0.0475 - acc: 0.9875 "
     ]
    },
    {
     "name": "stderr",
     "output_type": "stream",
     "text": [
      "/usr/local/lib/python3.6/dist-packages/ipykernel_launcher.py:1: UserWarning: The `nb_epoch` argument in `fit` has been renamed `epochs`.\n",
      "  \"\"\"Entry point for launching an IPython kernel.\n"
     ]
    },
    {
     "name": "stdout",
     "output_type": "stream",
     "text": [
      "60000/60000 [==============================] - 16s 272us/step - loss: 0.0133 - acc: 0.9957 - val_loss: 0.0289 - val_acc: 0.9905\n",
      "Epoch 2/10\n",
      "60000/60000 [==============================] - 16s 268us/step - loss: 0.0119 - acc: 0.9963 - val_loss: 0.0297 - val_acc: 0.9908\n",
      "Epoch 3/10\n",
      "60000/60000 [==============================] - 16s 268us/step - loss: 0.0124 - acc: 0.9960 - val_loss: 0.0301 - val_acc: 0.9905\n",
      "Epoch 4/10\n",
      "60000/60000 [==============================] - 16s 267us/step - loss: 0.0124 - acc: 0.9962 - val_loss: 0.0484 - val_acc: 0.9876\n",
      "Epoch 5/10\n",
      "60000/60000 [==============================] - 16s 266us/step - loss: 0.0110 - acc: 0.9962 - val_loss: 0.0359 - val_acc: 0.9911\n",
      "Epoch 6/10\n",
      "60000/60000 [==============================] - 16s 265us/step - loss: 0.0112 - acc: 0.9962 - val_loss: 0.0402 - val_acc: 0.9885\n",
      "Epoch 7/10\n",
      "60000/60000 [==============================] - 16s 266us/step - loss: 0.0095 - acc: 0.9966 - val_loss: 0.0476 - val_acc: 0.9869\n",
      "Epoch 8/10\n",
      "60000/60000 [==============================] - 16s 264us/step - loss: 0.0101 - acc: 0.9966 - val_loss: 0.0357 - val_acc: 0.9905\n",
      "Epoch 9/10\n",
      "60000/60000 [==============================] - 16s 260us/step - loss: 0.0085 - acc: 0.9973 - val_loss: 0.0361 - val_acc: 0.9904\n",
      "Epoch 10/10\n",
      "60000/60000 [==============================] - 15s 257us/step - loss: 0.0080 - acc: 0.9971 - val_loss: 0.0370 - val_acc: 0.9900\n"
     ]
    },
    {
     "data": {
      "text/plain": [
       "<keras.callbacks.History at 0x7f6ec0fa9908>"
      ]
     },
     "execution_count": 240,
     "metadata": {
      "tags": []
     },
     "output_type": "execute_result"
    }
   ],
   "source": [
    "model.fit(X_train, Y_train, batch_size=64, nb_epoch=10, verbose=1,validation_data=(X_test, Y_test))  # Learn Learn Learn"
   ]
  },
  {
   "cell_type": "code",
   "execution_count": 247,
   "metadata": {
    "colab": {
     "base_uri": "https://localhost:8080/",
     "height": 798
    },
    "colab_type": "code",
    "id": "RvYyzygfgjtO",
    "outputId": "98cc7cce-c50d-4b5c-dc81-4f92a0a51efa"
   },
   "outputs": [
    {
     "name": "stderr",
     "output_type": "stream",
     "text": [
      "/usr/local/lib/python3.6/dist-packages/ipykernel_launcher.py:1: UserWarning: The `nb_epoch` argument in `fit` has been renamed `epochs`.\n",
      "  \"\"\"Entry point for launching an IPython kernel.\n"
     ]
    },
    {
     "name": "stdout",
     "output_type": "stream",
     "text": [
      "Train on 60000 samples, validate on 10000 samples\n",
      "Epoch 1/20\n",
      "60000/60000 [==============================] - 5s 83us/step - loss: 0.0029 - acc: 0.9990 - val_loss: 0.0310 - val_acc: 0.9913\n",
      "Epoch 2/20\n",
      "60000/60000 [==============================] - 4s 71us/step - loss: 0.0012 - acc: 0.9998 - val_loss: 0.0308 - val_acc: 0.9920\n",
      "Epoch 3/20\n",
      "60000/60000 [==============================] - 4s 71us/step - loss: 8.8885e-04 - acc: 0.9999 - val_loss: 0.0317 - val_acc: 0.9922\n",
      "Epoch 4/20\n",
      "60000/60000 [==============================] - 4s 70us/step - loss: 7.1051e-04 - acc: 0.9999 - val_loss: 0.0325 - val_acc: 0.9923\n",
      "Epoch 5/20\n",
      "60000/60000 [==============================] - 4s 70us/step - loss: 6.2584e-04 - acc: 1.0000 - val_loss: 0.0330 - val_acc: 0.9922\n",
      "Epoch 6/20\n",
      "60000/60000 [==============================] - 4s 71us/step - loss: 5.3957e-04 - acc: 1.0000 - val_loss: 0.0337 - val_acc: 0.9924\n",
      "Epoch 7/20\n",
      "60000/60000 [==============================] - 4s 70us/step - loss: 4.9332e-04 - acc: 1.0000 - val_loss: 0.0344 - val_acc: 0.9924\n",
      "Epoch 8/20\n",
      "60000/60000 [==============================] - 4s 70us/step - loss: 4.5155e-04 - acc: 1.0000 - val_loss: 0.0352 - val_acc: 0.9921\n",
      "Epoch 9/20\n",
      "60000/60000 [==============================] - 4s 70us/step - loss: 4.3330e-04 - acc: 1.0000 - val_loss: 0.0358 - val_acc: 0.9919\n",
      "Epoch 10/20\n",
      "60000/60000 [==============================] - 4s 71us/step - loss: 4.0144e-04 - acc: 1.0000 - val_loss: 0.0364 - val_acc: 0.9918\n",
      "Epoch 11/20\n",
      "60000/60000 [==============================] - 4s 70us/step - loss: 3.8340e-04 - acc: 1.0000 - val_loss: 0.0372 - val_acc: 0.9921\n",
      "Epoch 12/20\n",
      "60000/60000 [==============================] - 4s 70us/step - loss: 3.6891e-04 - acc: 1.0000 - val_loss: 0.0376 - val_acc: 0.9920\n",
      "Epoch 13/20\n",
      "60000/60000 [==============================] - 4s 70us/step - loss: 3.5635e-04 - acc: 1.0000 - val_loss: 0.0383 - val_acc: 0.9920\n",
      "Epoch 14/20\n",
      "60000/60000 [==============================] - 4s 71us/step - loss: 3.5132e-04 - acc: 1.0000 - val_loss: 0.0389 - val_acc: 0.9920\n",
      "Epoch 15/20\n",
      "60000/60000 [==============================] - 4s 70us/step - loss: 3.3658e-04 - acc: 1.0000 - val_loss: 0.0394 - val_acc: 0.9920\n",
      "Epoch 16/20\n",
      "60000/60000 [==============================] - 4s 70us/step - loss: 3.3404e-04 - acc: 1.0000 - val_loss: 0.0398 - val_acc: 0.9918\n",
      "Epoch 17/20\n",
      "60000/60000 [==============================] - 4s 70us/step - loss: 3.2383e-04 - acc: 1.0000 - val_loss: 0.0405 - val_acc: 0.9918\n",
      "Epoch 18/20\n",
      "60000/60000 [==============================] - 4s 71us/step - loss: 3.1780e-04 - acc: 1.0000 - val_loss: 0.0410 - val_acc: 0.9918\n",
      "Epoch 19/20\n",
      "60000/60000 [==============================] - 4s 73us/step - loss: 3.1435e-04 - acc: 1.0000 - val_loss: 0.0416 - val_acc: 0.9918\n",
      "Epoch 20/20\n",
      "60000/60000 [==============================] - 4s 71us/step - loss: 3.0894e-04 - acc: 1.0000 - val_loss: 0.0421 - val_acc: 0.9918\n"
     ]
    },
    {
     "data": {
      "text/plain": [
       "<keras.callbacks.History at 0x7f6ec13c6dd8>"
      ]
     },
     "execution_count": 247,
     "metadata": {
      "tags": []
     },
     "output_type": "execute_result"
    }
   ],
   "source": [
    "model.fit(X_train, Y_train, batch_size=512, nb_epoch=20, verbose=1,validation_data=(X_test, Y_test))  # Learn Learn Lear"
   ]
  },
  {
   "cell_type": "code",
   "execution_count": 0,
   "metadata": {
    "colab": {},
    "colab_type": "code",
    "id": "AtsH-lLk-eLb"
   },
   "outputs": [],
   "source": [
    "score = model.evaluate(X_test, Y_test, verbose=0)                               # Evaluate the Model over test data"
   ]
  },
  {
   "cell_type": "code",
   "execution_count": 249,
   "metadata": {
    "colab": {
     "base_uri": "https://localhost:8080/",
     "height": 34
    },
    "colab_type": "code",
    "id": "mkX8JMv79q9r",
    "outputId": "4a2fe80d-0a56-4b9a-c411-f903caca9ac5"
   },
   "outputs": [
    {
     "name": "stdout",
     "output_type": "stream",
     "text": [
      "[0.04209025058921336, 0.9918]\n"
     ]
    }
   ],
   "source": [
    "print(score)                                                                    # Accuracy over test data."
   ]
  },
  {
   "cell_type": "code",
   "execution_count": 0,
   "metadata": {
    "colab": {},
    "colab_type": "code",
    "id": "OCWoJkwE9suh"
   },
   "outputs": [],
   "source": [
    "y_pred = model.predict(X_test)                                                  # predicting the values with validation accuracy"
   ]
  },
  {
   "cell_type": "code",
   "execution_count": 251,
   "metadata": {
    "colab": {
     "base_uri": "https://localhost:8080/",
     "height": 354
    },
    "colab_type": "code",
    "id": "Ym7iCFBm9uBs",
    "outputId": "c35ff8f1-3d11-451a-ca8b-9240df46f5bc"
   },
   "outputs": [
    {
     "name": "stdout",
     "output_type": "stream",
     "text": [
      "[[1.9731640e-29 3.9735300e-28 8.5085220e-21 8.2283636e-20 0.0000000e+00\n",
      "  7.1568101e-28 0.0000000e+00 1.0000000e+00 7.9162476e-28 1.2901531e-22]\n",
      " [5.8704989e-22 7.0331619e-14 1.0000000e+00 9.7323033e-32 2.5751539e-19\n",
      "  4.5516692e-25 5.8211110e-20 1.7973761e-35 1.9399287e-22 1.7262203e-27]\n",
      " [6.4769498e-19 1.0000000e+00 5.8956722e-17 2.6003096e-24 9.6518568e-16\n",
      "  1.3740765e-18 4.2699774e-19 4.1081704e-14 2.4902546e-13 2.3153715e-28]\n",
      " [1.0000000e+00 2.3888411e-36 5.3941360e-26 3.4527141e-26 7.9969650e-25\n",
      "  5.7742873e-21 1.4066700e-14 2.1484689e-22 2.3697889e-22 1.9629807e-17]\n",
      " [0.0000000e+00 7.1986810e-34 1.1806023e-27 7.2541298e-38 1.0000000e+00\n",
      "  0.0000000e+00 1.4790570e-27 1.5499091e-26 1.3454342e-26 2.6509998e-16]\n",
      " [8.1965610e-21 1.0000000e+00 4.9375695e-17 1.4696492e-25 3.4769293e-14\n",
      "  1.5877095e-21 6.8146572e-21 1.4037652e-13 6.1420487e-16 9.2588851e-27]\n",
      " [0.0000000e+00 1.5442821e-22 1.2270030e-30 1.8273965e-33 1.0000000e+00\n",
      "  7.2311960e-31 0.0000000e+00 3.9121514e-20 6.3697334e-17 7.9465189e-13]\n",
      " [1.4499133e-34 1.9735726e-27 8.8278527e-26 9.8375766e-22 5.4896615e-13\n",
      "  6.9884579e-22 4.4781351e-37 1.6754346e-20 5.7532576e-17 1.0000000e+00]\n",
      " [1.8630665e-18 1.6818210e-30 3.4194889e-22 2.8075592e-25 2.9234027e-16\n",
      "  9.9492657e-01 2.6333622e-09 2.2065861e-35 5.0734356e-03 2.5352550e-12]]\n",
      "[7 2 1 0 4 1 4 9 5]\n"
     ]
    }
   ],
   "source": [
    "print(y_pred[:9])                                                               \n",
    "print(y_test[:9])"
   ]
  },
  {
   "cell_type": "code",
   "execution_count": 0,
   "metadata": {
    "colab": {},
    "colab_type": "code",
    "id": "CT--y98_dr2T"
   },
   "outputs": [],
   "source": [
    "layer_dict = dict([(layer.name, layer) for layer in model.layers])"
   ]
  },
  {
   "cell_type": "code",
   "execution_count": 246,
   "metadata": {
    "colab": {
     "base_uri": "https://localhost:8080/",
     "height": 327
    },
    "colab_type": "code",
    "id": "2GY4Upv4dsUR",
    "outputId": "cf068ee2-bc93-404e-e157-d3c82a917b37"
   },
   "outputs": [
    {
     "ename": "KeyError",
     "evalue": "ignored",
     "output_type": "error",
     "traceback": [
      "\u001b[0;31m---------------------------------------------------------------------------\u001b[0m",
      "\u001b[0;31mKeyError\u001b[0m                                  Traceback (most recent call last)",
      "\u001b[0;32m<ipython-input-246-19229f66b51a>\u001b[0m in \u001b[0;36m<module>\u001b[0;34m()\u001b[0m\n\u001b[1;32m     69\u001b[0m         \u001b[0max\u001b[0m\u001b[0;34m[\u001b[0m\u001b[0mx\u001b[0m\u001b[0;34m,\u001b[0m \u001b[0my\u001b[0m\u001b[0;34m]\u001b[0m\u001b[0;34m.\u001b[0m\u001b[0mset_title\u001b[0m\u001b[0;34m(\u001b[0m\u001b[0;34m'filter %d'\u001b[0m \u001b[0;34m%\u001b[0m \u001b[0;34m(\u001b[0m\u001b[0mx\u001b[0m \u001b[0;34m*\u001b[0m \u001b[0mplot_y\u001b[0m \u001b[0;34m+\u001b[0m \u001b[0my\u001b[0m \u001b[0;34m-\u001b[0m \u001b[0;36m1\u001b[0m\u001b[0;34m)\u001b[0m\u001b[0;34m)\u001b[0m\u001b[0;34m\u001b[0m\u001b[0;34m\u001b[0m\u001b[0m\n\u001b[1;32m     70\u001b[0m \u001b[0;34m\u001b[0m\u001b[0m\n\u001b[0;32m---> 71\u001b[0;31m \u001b[0mvis_img_in_filter\u001b[0m\u001b[0;34m(\u001b[0m\u001b[0;34m)\u001b[0m\u001b[0;34m\u001b[0m\u001b[0;34m\u001b[0m\u001b[0m\n\u001b[0m",
      "\u001b[0;32m<ipython-input-246-19229f66b51a>\u001b[0m in \u001b[0;36mvis_img_in_filter\u001b[0;34m(img, layer_name)\u001b[0m\n\u001b[1;32m     22\u001b[0m def vis_img_in_filter(img = np.array(X_train[2]).reshape((1, 28, 28, 1)).astype(np.float64), \n\u001b[1;32m     23\u001b[0m                       layer_name = 'conv2d_14'):\n\u001b[0;32m---> 24\u001b[0;31m     \u001b[0mlayer_output\u001b[0m \u001b[0;34m=\u001b[0m \u001b[0mlayer_dict\u001b[0m\u001b[0;34m[\u001b[0m\u001b[0mlayer_name\u001b[0m\u001b[0;34m]\u001b[0m\u001b[0;34m.\u001b[0m\u001b[0moutput\u001b[0m\u001b[0;34m\u001b[0m\u001b[0;34m\u001b[0m\u001b[0m\n\u001b[0m\u001b[1;32m     25\u001b[0m     \u001b[0mimg_ascs\u001b[0m \u001b[0;34m=\u001b[0m \u001b[0mlist\u001b[0m\u001b[0;34m(\u001b[0m\u001b[0;34m)\u001b[0m\u001b[0;34m\u001b[0m\u001b[0;34m\u001b[0m\u001b[0m\n\u001b[1;32m     26\u001b[0m     \u001b[0;32mfor\u001b[0m \u001b[0mfilter_index\u001b[0m \u001b[0;32min\u001b[0m \u001b[0mrange\u001b[0m\u001b[0;34m(\u001b[0m\u001b[0mlayer_output\u001b[0m\u001b[0;34m.\u001b[0m\u001b[0mshape\u001b[0m\u001b[0;34m[\u001b[0m\u001b[0;36m3\u001b[0m\u001b[0;34m]\u001b[0m\u001b[0;34m)\u001b[0m\u001b[0;34m:\u001b[0m\u001b[0;34m\u001b[0m\u001b[0;34m\u001b[0m\u001b[0m\n",
      "\u001b[0;31mKeyError\u001b[0m: 'conv2d_14'"
     ]
    }
   ],
   "source": [
    "import numpy as np\n",
    "from matplotlib import pyplot as plt\n",
    "from keras import backend as K\n",
    "%matplotlib inline\n",
    "# util function to convert a tensor into a valid image\n",
    "def deprocess_image(x):\n",
    "    # normalize tensor: center on 0., ensure std is 0.1\n",
    "    x -= x.mean()\n",
    "    x /= (x.std() + 1e-5)\n",
    "    x *= 0.1\n",
    "\n",
    "    # clip to [0, 1]\n",
    "    x += 0.5\n",
    "    x = np.clip(x, 0, 1)\n",
    "\n",
    "    # convert to RGB array\n",
    "    x *= 255\n",
    "    #x = x.transpose((1, 2, 0))\n",
    "    x = np.clip(x, 0, 255).astype('uint8')\n",
    "    return x\n",
    "\n",
    "def vis_img_in_filter(img = np.array(X_train[2]).reshape((1, 28, 28, 1)).astype(np.float64), \n",
    "                      layer_name = 'conv2d_14'):\n",
    "    layer_output = layer_dict[layer_name].output\n",
    "    img_ascs = list()\n",
    "    for filter_index in range(layer_output.shape[3]):\n",
    "        # build a loss function that maximizes the activation\n",
    "        # of the nth filter of the layer considered\n",
    "        loss = K.mean(layer_output[:, :, :, filter_index])\n",
    "\n",
    "        # compute the gradient of the input picture wrt this loss\n",
    "        grads = K.gradients(loss, model.input)[0]\n",
    "\n",
    "        # normalization trick: we normalize the gradient\n",
    "        grads /= (K.sqrt(K.mean(K.square(grads))) + 1e-5)\n",
    "\n",
    "        # this function returns the loss and grads given the input picture\n",
    "        iterate = K.function([model.input], [loss, grads])\n",
    "\n",
    "        # step size for gradient ascent\n",
    "        step = 5.\n",
    "\n",
    "        img_asc = np.array(img)\n",
    "        # run gradient ascent for 20 steps\n",
    "        for i in range(20):\n",
    "            loss_value, grads_value = iterate([img_asc])\n",
    "            img_asc += grads_value * step\n",
    "\n",
    "        img_asc = img_asc[0]\n",
    "        img_ascs.append(deprocess_image(img_asc).reshape((28, 28)))\n",
    "        \n",
    "    if layer_output.shape[3] >= 35:\n",
    "        plot_x, plot_y = 6, 6\n",
    "    elif layer_output.shape[3] >= 23:\n",
    "        plot_x, plot_y = 4, 6\n",
    "    elif layer_output.shape[3] >= 11:\n",
    "        plot_x, plot_y = 2, 6\n",
    "    else:\n",
    "        plot_x, plot_y = 1, 2\n",
    "    fig, ax = plt.subplots(plot_x, plot_y, figsize = (12, 12))\n",
    "    ax[0, 0].imshow(img.reshape((28, 28)), cmap = 'gray')\n",
    "    ax[0, 0].set_title('Input image')\n",
    "    fig.suptitle('Input image and %s filters' % (layer_name,))\n",
    "    fig.tight_layout(pad = 0.3, rect = [0, 0, 0.9, 0.9])\n",
    "    for (x, y) in [(i, j) for i in range(plot_x) for j in range(plot_y)]:\n",
    "        if x == 0 and y == 0:\n",
    "            continue\n",
    "        ax[x, y].imshow(img_ascs[x * plot_y + y - 1], cmap = 'gray')\n",
    "        ax[x, y].set_title('filter %d' % (x * plot_y + y - 1))\n",
    "\n",
    "vis_img_in_filter()"
   ]
  },
  {
   "cell_type": "code",
   "execution_count": 0,
   "metadata": {
    "colab": {},
    "colab_type": "code",
    "id": "9tvptcn8dxvp"
   },
   "outputs": [],
   "source": []
  }
 ],
 "metadata": {
  "accelerator": "GPU",
  "colab": {
   "collapsed_sections": [],
   "include_colab_link": true,
   "name": "Assignment 3 - 1st DNN.ipynb",
   "provenance": []
  },
  "kernelspec": {
   "display_name": "Python 3",
   "language": "python",
   "name": "python3"
  },
  "language_info": {
   "codemirror_mode": {
    "name": "ipython",
    "version": 3
   },
   "file_extension": ".py",
   "mimetype": "text/x-python",
   "name": "python",
   "nbconvert_exporter": "python",
   "pygments_lexer": "ipython3",
   "version": "3.7.3"
  }
 },
 "nbformat": 4,
 "nbformat_minor": 1
}
