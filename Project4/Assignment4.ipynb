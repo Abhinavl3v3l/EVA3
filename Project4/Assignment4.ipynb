{
  "nbformat": 4,
  "nbformat_minor": 0,
  "metadata": {
    "colab": {
      "name": "Assignment4.ipynb",
      "provenance": [],
      "collapsed_sections": [],
      "include_colab_link": true
    },
    "kernelspec": {
      "name": "python3",
      "display_name": "Python 3"
    },
    "accelerator": "GPU"
  },
  "cells": [
    {
      "cell_type": "markdown",
      "metadata": {
        "id": "view-in-github",
        "colab_type": "text"
      },
      "source": [
        "<a href=\"https://colab.research.google.com/github/Abhinavl3v3l/EVA3/blob/master/Assignment4.ipynb\" target=\"_parent\"><img src=\"https://colab.research.google.com/assets/colab-badge.svg\" alt=\"Open In Colab\"/></a>"
      ]
    },
    {
      "cell_type": "markdown",
      "metadata": {
        "id": "aNyZv-Ec52ot",
        "colab_type": "text"
      },
      "source": [
        "# **Import Libraries and modules**"
      ]
    },
    {
      "cell_type": "code",
      "metadata": {
        "id": "3m3w1Cw49Zkt",
        "colab_type": "code",
        "colab": {}
      },
      "source": [
        "# https://keras.io/\n",
        "!pip install -q keras\n",
        "import keras"
      ],
      "execution_count": 0,
      "outputs": []
    },
    {
      "cell_type": "code",
      "metadata": {
        "id": "Eso6UHE080D4",
        "colab_type": "code",
        "colab": {}
      },
      "source": [
        "import numpy as np\n",
        "\n",
        "from keras.models import Sequential\n",
        "from keras.layers import Dense, Dropout, Activation, Flatten, Add, BatchNormalization\n",
        "from keras.layers import Convolution2D, MaxPooling2D\n",
        "from keras.utils import np_utils\n",
        "\n",
        "from keras.datasets import mnist                                                # Importing Necessary Libraries and dataset(in keras)"
      ],
      "execution_count": 0,
      "outputs": []
    },
    {
      "cell_type": "markdown",
      "metadata": {
        "id": "zByEi95J86RD",
        "colab_type": "text"
      },
      "source": [
        "### Load pre-shuffled MNIST data into train and test sets"
      ]
    },
    {
      "cell_type": "code",
      "metadata": {
        "id": "7eRM0QWN83PV",
        "colab_type": "code",
        "colab": {}
      },
      "source": [
        "(X_train, y_train), (X_test, y_test) = mnist.load_data()                        # mnist data divided into Training and Test Data\n",
        "                                                                                # Where X_train are 60K 28x28 gray scale training images of numbers from [0-9] \n",
        "                                                                                # y_train are label of numbers from [0-9]"
      ],
      "execution_count": 0,
      "outputs": []
    },
    {
      "cell_type": "code",
      "metadata": {
        "id": "4a4Be72j8-ZC",
        "colab_type": "code",
        "outputId": "066ea059-9bbb-4593-df5f-7337ab6603e7",
        "colab": {
          "base_uri": "https://localhost:8080/",
          "height": 304
        }
      },
      "source": [
        "print (X_train.shape)\n",
        "from matplotlib import pyplot as plt\n",
        "%matplotlib inline\n",
        "plt.imshow(X_train[0])                                                           # Displaying what one of the images look like."
      ],
      "execution_count": 158,
      "outputs": [
        {
          "output_type": "stream",
          "text": [
            "(60000, 28, 28)\n"
          ],
          "name": "stdout"
        },
        {
          "output_type": "execute_result",
          "data": {
            "text/plain": [
              "<matplotlib.image.AxesImage at 0x7faa34f0ec88>"
            ]
          },
          "metadata": {
            "tags": []
          },
          "execution_count": 158
        },
        {
          "output_type": "display_data",
          "data": {
            "image/png": "[encoded data removed]",
            "text/plain": [
              "<Figure size 432x288 with 1 Axes>"
            ]
          },
          "metadata": {
            "tags": []
          }
        }
      ]
    },
    {
      "cell_type": "code",
      "metadata": {
        "id": "dkmprriw9AnZ",
        "colab_type": "code",
        "colab": {}
      },
      "source": [
        "X_train = X_train.reshape(X_train.shape[0], 28, 28,1)                           # (60000, 28, 28) ->  (60000, 28, 28, 1)\n",
        "X_test = X_test.reshape(X_test.shape[0], 28, 28,1)"
      ],
      "execution_count": 0,
      "outputs": []
    },
    {
      "cell_type": "code",
      "metadata": {
        "id": "X2m4YS4E9CRh",
        "colab_type": "code",
        "colab": {}
      },
      "source": [
        "X_train = X_train.astype('float32')                                             # Convert to float type\n",
        "X_test = X_test.astype('float32') \n",
        "X_train /= 255\n",
        "X_test /= 255                                                                   # Floating Value ranges from [0,1]"
      ],
      "execution_count": 0,
      "outputs": []
    },
    {
      "cell_type": "code",
      "metadata": {
        "id": "0Mn0vAYD9DvB",
        "colab_type": "code",
        "outputId": "19c91cfd-2d52-4098-c55e-249d260885f1",
        "colab": {
          "base_uri": "https://localhost:8080/",
          "height": 34
        }
      },
      "source": [
        "y_train[:10]"
      ],
      "execution_count": 161,
      "outputs": [
        {
          "output_type": "execute_result",
          "data": {
            "text/plain": [
              "array([5, 0, 4, 1, 9, 2, 1, 3, 1, 4], dtype=uint8)"
            ]
          },
          "metadata": {
            "tags": []
          },
          "execution_count": 161
        }
      ]
    },
    {
      "cell_type": "code",
      "metadata": {
        "id": "ZG8JiXR39FHC",
        "colab_type": "code",
        "colab": {}
      },
      "source": [
        "# Convert 1-dimensional class arrays to 10-dimensional class matrices\n",
        "Y_train = np_utils.to_categorical(y_train, 10)                                  \n",
        "Y_test = np_utils.to_categorical(y_test, 10)"
      ],
      "execution_count": 0,
      "outputs": []
    },
    {
      "cell_type": "code",
      "metadata": {
        "id": "fYlFRvKS9HMB",
        "colab_type": "code",
        "outputId": "c5706763-86cd-48a6-a0bc-e0a00827c1a3",
        "colab": {
          "base_uri": "https://localhost:8080/",
          "height": 194
        }
      },
      "source": [
        "Y_train[:10]                                                                    ## y_train to Y_train  - example,5 value is converted to an array where 5th element of array is 1(lit) and rest all is 0 \n",
        "                                                                                \n",
        "                                                                                # OR \n",
        "                                                                                \n",
        "                                                                                # 1 Hot Encoded  \n"
      ],
      "execution_count": 163,
      "outputs": [
        {
          "output_type": "execute_result",
          "data": {
            "text/plain": [
              "array([[0., 0., 0., 0., 0., 1., 0., 0., 0., 0.],\n",
              "       [1., 0., 0., 0., 0., 0., 0., 0., 0., 0.],\n",
              "       [0., 0., 0., 0., 1., 0., 0., 0., 0., 0.],\n",
              "       [0., 1., 0., 0., 0., 0., 0., 0., 0., 0.],\n",
              "       [0., 0., 0., 0., 0., 0., 0., 0., 0., 1.],\n",
              "       [0., 0., 1., 0., 0., 0., 0., 0., 0., 0.],\n",
              "       [0., 1., 0., 0., 0., 0., 0., 0., 0., 0.],\n",
              "       [0., 0., 0., 1., 0., 0., 0., 0., 0., 0.],\n",
              "       [0., 1., 0., 0., 0., 0., 0., 0., 0., 0.],\n",
              "       [0., 0., 0., 0., 1., 0., 0., 0., 0., 0.]], dtype=float32)"
            ]
          },
          "metadata": {
            "tags": []
          },
          "execution_count": 163
        }
      ]
    },
    {
      "cell_type": "markdown",
      "metadata": {
        "id": "lCY5SFWYBoew",
        "colab_type": "text"
      },
      "source": [
        "### This assignment's code is divided into 4 parts. \n",
        "\n",
        "1.    Architecture( remains constant).\n",
        "2.    Kernel Optimization to fit under 15K constraint.\n",
        "3.    Go Crazy (Batch Normalization, Drop Out, Learning Rate, Batch Size).\n",
        "4.    Accuracy above 99.4% (if possible less than 15 epochs)\n",
        "\n",
        "#### Guidelines\n",
        "1.    Make sure you are tracking your code's performance, and writing down your observations as you achieve better or worse results\n",
        "2.    Your second code can only have max 2 improvements over first one, third can have only max 2 over second and so on. \n",
        "3.    All of your iterations are in different CODE BLOCKS and named properly like First CODE, Second CODE, etc\n",
        "4.    All of your iterations have a Header note, describing what all you are planning to do in this code\n",
        "5.    All of your code is very well documented\n",
        "6.    There is a readme file (or embedded documentation) describing your codes and steps you've taken\n",
        "\n",
        "\n"
      ]
    },
    {
      "cell_type": "markdown",
      "metadata": {
        "id": "vrLcv7xIDfs9",
        "colab_type": "text"
      },
      "source": [
        "# CODE 1 - Architecture"
      ]
    },
    {
      "cell_type": "code",
      "metadata": {
        "id": "7kFKpT7_YkY9",
        "colab_type": "code",
        "colab": {
          "base_uri": "https://localhost:8080/",
          "height": 798
        },
        "outputId": "cb81f46f-6779-46b5-e1ba-e38e7c57064c"
      },
      "source": [
        "from keras.layers import Activation\n",
        "model = Sequential()\n",
        " \n",
        "model.add(Convolution2D(16, 3, 3, activation='relu', input_shape=(28,28,1)))    #26\n",
        "model.add(Convolution2D(32, 3, 3, activation='relu'))                           #24\n",
        "model.add(Convolution2D(10, 1, 1, activation='relu'))                           #24\n",
        "model.add(MaxPooling2D(pool_size=(2, 2)))                                       #12\n",
        "\n",
        "model.add(Convolution2D(16, 3, 3, activation='relu'))                           #10\n",
        "model.add(Convolution2D(32, 3, 3, activation='relu'))                           #8\n",
        "model.add(Convolution2D(32, 3, 3, activation='relu'))                           #6\n",
        "model.add(Convolution2D(64, 3, 3, activation='relu'))                           #4\n",
        "model.add(Convolution2D(10, 4))\n",
        "\n",
        "\n",
        "model.add(Flatten())\n",
        "model.add(Activation('softmax'))\n",
        "\n",
        "\n",
        "model.summary()"
      ],
      "execution_count": 164,
      "outputs": [
        {
          "output_type": "stream",
          "text": [
            "Model: \"sequential_25\"\n",
            "_________________________________________________________________\n",
            "Layer (type)                 Output Shape              Param #   \n",
            "=================================================================\n",
            "conv2d_193 (Conv2D)          (None, 26, 26, 16)        160       \n",
            "_________________________________________________________________\n",
            "conv2d_194 (Conv2D)          (None, 24, 24, 32)        4640      \n",
            "_________________________________________________________________\n",
            "conv2d_195 (Conv2D)          (None, 24, 24, 10)        330       \n",
            "_________________________________________________________________\n",
            "max_pooling2d_25 (MaxPooling (None, 12, 12, 10)        0         \n",
            "_________________________________________________________________\n",
            "conv2d_196 (Conv2D)          (None, 10, 10, 16)        1456      \n",
            "_________________________________________________________________\n",
            "conv2d_197 (Conv2D)          (None, 8, 8, 32)          4640      \n",
            "_________________________________________________________________\n",
            "conv2d_198 (Conv2D)          (None, 6, 6, 32)          9248      \n",
            "_________________________________________________________________\n",
            "conv2d_199 (Conv2D)          (None, 4, 4, 64)          18496     \n",
            "_________________________________________________________________\n",
            "conv2d_200 (Conv2D)          (None, 1, 1, 10)          10250     \n",
            "_________________________________________________________________\n",
            "flatten_25 (Flatten)         (None, 10)                0         \n",
            "_________________________________________________________________\n",
            "activation_25 (Activation)   (None, 10)                0         \n",
            "=================================================================\n",
            "Total params: 49,220\n",
            "Trainable params: 49,220\n",
            "Non-trainable params: 0\n",
            "_________________________________________________________________\n"
          ],
          "name": "stdout"
        },
        {
          "output_type": "stream",
          "text": [
            "/usr/local/lib/python3.6/dist-packages/ipykernel_launcher.py:4: UserWarning: Update your `Conv2D` call to the Keras 2 API: `Conv2D(16, (3, 3), activation=\"relu\", input_shape=(28, 28, 1...)`\n",
            "  after removing the cwd from sys.path.\n",
            "/usr/local/lib/python3.6/dist-packages/ipykernel_launcher.py:5: UserWarning: Update your `Conv2D` call to the Keras 2 API: `Conv2D(32, (3, 3), activation=\"relu\")`\n",
            "  \"\"\"\n",
            "/usr/local/lib/python3.6/dist-packages/ipykernel_launcher.py:6: UserWarning: Update your `Conv2D` call to the Keras 2 API: `Conv2D(10, (1, 1), activation=\"relu\")`\n",
            "  \n",
            "/usr/local/lib/python3.6/dist-packages/ipykernel_launcher.py:9: UserWarning: Update your `Conv2D` call to the Keras 2 API: `Conv2D(16, (3, 3), activation=\"relu\")`\n",
            "  if __name__ == '__main__':\n",
            "/usr/local/lib/python3.6/dist-packages/ipykernel_launcher.py:10: UserWarning: Update your `Conv2D` call to the Keras 2 API: `Conv2D(32, (3, 3), activation=\"relu\")`\n",
            "  # Remove the CWD from sys.path while we load stuff.\n",
            "/usr/local/lib/python3.6/dist-packages/ipykernel_launcher.py:11: UserWarning: Update your `Conv2D` call to the Keras 2 API: `Conv2D(32, (3, 3), activation=\"relu\")`\n",
            "  # This is added back by InteractiveShellApp.init_path()\n",
            "/usr/local/lib/python3.6/dist-packages/ipykernel_launcher.py:12: UserWarning: Update your `Conv2D` call to the Keras 2 API: `Conv2D(64, (3, 3), activation=\"relu\")`\n",
            "  if sys.path[0] == '':\n"
          ],
          "name": "stderr"
        }
      ]
    },
    {
      "cell_type": "code",
      "metadata": {
        "id": "LZkcLcs9Qjqi",
        "colab_type": "code",
        "colab": {
          "base_uri": "https://localhost:8080/",
          "height": 763
        },
        "outputId": "5d3becd9-3caf-4cff-de15-4feae28c2a27"
      },
      "source": [
        "model.compile(loss='categorical_crossentropy',optimizer='sgd',metrics=['accuracy'])\n",
        "model.fit(X_train, Y_train, batch_size=64, epochs=20, verbose=1, validation_data=(X_test, Y_test))"
      ],
      "execution_count": 165,
      "outputs": [
        {
          "output_type": "stream",
          "text": [
            "Train on 60000 samples, validate on 10000 samples\n",
            "Epoch 1/20\n",
            "60000/60000 [==============================] - 19s 311us/step - loss: 1.3781 - acc: 0.5742 - val_loss: 0.2832 - val_acc: 0.9109\n",
            "Epoch 2/20\n",
            "60000/60000 [==============================] - 13s 216us/step - loss: 0.2083 - acc: 0.9355 - val_loss: 0.1468 - val_acc: 0.9555\n",
            "Epoch 3/20\n",
            "60000/60000 [==============================] - 13s 216us/step - loss: 0.1287 - acc: 0.9595 - val_loss: 0.1243 - val_acc: 0.9620\n",
            "Epoch 4/20\n",
            "60000/60000 [==============================] - 13s 216us/step - loss: 0.0991 - acc: 0.9689 - val_loss: 0.1005 - val_acc: 0.9663\n",
            "Epoch 5/20\n",
            "60000/60000 [==============================] - 13s 215us/step - loss: 0.0815 - acc: 0.9743 - val_loss: 0.0750 - val_acc: 0.9766\n",
            "Epoch 6/20\n",
            "60000/60000 [==============================] - 13s 216us/step - loss: 0.0698 - acc: 0.9775 - val_loss: 0.0857 - val_acc: 0.9730\n",
            "Epoch 7/20\n",
            "60000/60000 [==============================] - 13s 217us/step - loss: 0.0612 - acc: 0.9808 - val_loss: 0.0612 - val_acc: 0.9810\n",
            "Epoch 8/20\n",
            "60000/60000 [==============================] - 13s 217us/step - loss: 0.0544 - acc: 0.9829 - val_loss: 0.0563 - val_acc: 0.9815\n",
            "Epoch 9/20\n",
            "60000/60000 [==============================] - 13s 215us/step - loss: 0.0493 - acc: 0.9840 - val_loss: 0.0674 - val_acc: 0.9781\n",
            "Epoch 10/20\n",
            "60000/60000 [==============================] - 13s 216us/step - loss: 0.0443 - acc: 0.9856 - val_loss: 0.0675 - val_acc: 0.9772\n",
            "Epoch 11/20\n",
            "60000/60000 [==============================] - 13s 215us/step - loss: 0.0403 - acc: 0.9872 - val_loss: 0.0505 - val_acc: 0.9829\n",
            "Epoch 12/20\n",
            "60000/60000 [==============================] - 13s 215us/step - loss: 0.0370 - acc: 0.9884 - val_loss: 0.0535 - val_acc: 0.9836\n",
            "Epoch 13/20\n",
            "60000/60000 [==============================] - 13s 214us/step - loss: 0.0337 - acc: 0.9892 - val_loss: 0.0583 - val_acc: 0.9815\n",
            "Epoch 14/20\n",
            "60000/60000 [==============================] - 13s 214us/step - loss: 0.0299 - acc: 0.9904 - val_loss: 0.0546 - val_acc: 0.9831\n",
            "Epoch 15/20\n",
            "60000/60000 [==============================] - 13s 214us/step - loss: 0.0290 - acc: 0.9903 - val_loss: 0.0601 - val_acc: 0.9816\n",
            "Epoch 16/20\n",
            "60000/60000 [==============================] - 13s 215us/step - loss: 0.0270 - acc: 0.9911 - val_loss: 0.0524 - val_acc: 0.9838\n",
            "Epoch 17/20\n",
            "60000/60000 [==============================] - 13s 215us/step - loss: 0.0249 - acc: 0.9917 - val_loss: 0.0505 - val_acc: 0.9850\n",
            "Epoch 18/20\n",
            "60000/60000 [==============================] - 13s 214us/step - loss: 0.0214 - acc: 0.9934 - val_loss: 0.0571 - val_acc: 0.9852\n",
            "Epoch 19/20\n",
            "60000/60000 [==============================] - 13s 214us/step - loss: 0.0207 - acc: 0.9933 - val_loss: 0.0531 - val_acc: 0.9855\n",
            "Epoch 20/20\n",
            "60000/60000 [==============================] - 13s 214us/step - loss: 0.0191 - acc: 0.9940 - val_loss: 0.0553 - val_acc: 0.9853\n"
          ],
          "name": "stdout"
        },
        {
          "output_type": "execute_result",
          "data": {
            "text/plain": [
              "<keras.callbacks.History at 0x7faa34d7d160>"
            ]
          },
          "metadata": {
            "tags": []
          },
          "execution_count": 165
        }
      ]
    },
    {
      "cell_type": "markdown",
      "metadata": {
        "id": "mG8wkY_5RJeL",
        "colab_type": "text"
      },
      "source": [
        "# CODE 2 - Kernel Optimization to fit under 15K "
      ]
    },
    {
      "cell_type": "code",
      "metadata": {
        "id": "cHr6q39lRaaw",
        "colab_type": "code",
        "outputId": "18783dca-076b-432f-d18b-5dc5866c40df",
        "colab": {
          "base_uri": "https://localhost:8080/",
          "height": 550
        }
      },
      "source": [
        "# Set up data\n",
        "(X_train, y_train), (X_test, y_test) = mnist.load_data()\n",
        "X_train = X_train.reshape(X_train.shape[0], 28, 28,1)                           \n",
        "X_test = X_test.reshape(X_test.shape[0], 28, 28,1)\n",
        "X_train = X_train.astype('float32')                                            \n",
        "X_test = X_test.astype('float32') \n",
        "X_train /= 255\n",
        "X_test /= 255\n",
        "Y_train = np_utils.to_categorical(y_train, 10)                                  \n",
        "Y_test = np_utils.to_categorical(y_test, 10)\n",
        "\n",
        "from keras.layers import Activation\n",
        "model = Sequential()\n",
        " \n",
        "model.add(Convolution2D(8, (3, 3), activation='relu', input_shape=(28,28,1)))    #26\n",
        "model.add(Convolution2D(16, (3, 3), activation='relu'))                           #24\n",
        "model.add(Convolution2D(10, (1, 1), activation='relu'))                           #24\n",
        "\n",
        "model.add(MaxPooling2D(pool_size=(2, 2)))                                       #12\n",
        "\n",
        "model.add(Convolution2D(8, (3, 3), activation='relu'))                           #10\n",
        "model.add(Convolution2D(16, (3, 3), activation='relu'))                           #8\n",
        "model.add(Convolution2D(16, (3, 3), activation='relu'))                           #6\n",
        "model.add(Convolution2D(16, (3, 3), activation='relu') )                          #4\n",
        "model.add(Convolution2D(10, 4))        \n",
        "model.add(Flatten())\n",
        "model.add(Activation('softmax'))\n",
        "\n",
        "\n",
        "model.summary()\n",
        "model.compile(loss='categorical_crossentropy',optimizer='sgd',metrics=['accuracy'])\n"
      ],
      "execution_count": 166,
      "outputs": [
        {
          "output_type": "stream",
          "text": [
            "Model: \"sequential_26\"\n",
            "_________________________________________________________________\n",
            "Layer (type)                 Output Shape              Param #   \n",
            "=================================================================\n",
            "conv2d_201 (Conv2D)          (None, 26, 26, 8)         80        \n",
            "_________________________________________________________________\n",
            "conv2d_202 (Conv2D)          (None, 24, 24, 16)        1168      \n",
            "_________________________________________________________________\n",
            "conv2d_203 (Conv2D)          (None, 24, 24, 10)        170       \n",
            "_________________________________________________________________\n",
            "max_pooling2d_26 (MaxPooling (None, 12, 12, 10)        0         \n",
            "_________________________________________________________________\n",
            "conv2d_204 (Conv2D)          (None, 10, 10, 8)         728       \n",
            "_________________________________________________________________\n",
            "conv2d_205 (Conv2D)          (None, 8, 8, 16)          1168      \n",
            "_________________________________________________________________\n",
            "conv2d_206 (Conv2D)          (None, 6, 6, 16)          2320      \n",
            "_________________________________________________________________\n",
            "conv2d_207 (Conv2D)          (None, 4, 4, 16)          2320      \n",
            "_________________________________________________________________\n",
            "conv2d_208 (Conv2D)          (None, 1, 1, 10)          2570      \n",
            "_________________________________________________________________\n",
            "flatten_26 (Flatten)         (None, 10)                0         \n",
            "_________________________________________________________________\n",
            "activation_26 (Activation)   (None, 10)                0         \n",
            "=================================================================\n",
            "Total params: 10,524\n",
            "Trainable params: 10,524\n",
            "Non-trainable params: 0\n",
            "_________________________________________________________________\n"
          ],
          "name": "stdout"
        }
      ]
    },
    {
      "cell_type": "code",
      "metadata": {
        "id": "k1NY3KjSULil",
        "colab_type": "code",
        "colab": {
          "base_uri": "https://localhost:8080/",
          "height": 763
        },
        "outputId": "a3aa8510-23dc-4bf6-93e4-e4be7d17879d"
      },
      "source": [
        "model.fit(X_train, Y_train, batch_size=64, epochs=20, verbose=1, validation_data=(X_test, Y_test))"
      ],
      "execution_count": 167,
      "outputs": [
        {
          "output_type": "stream",
          "text": [
            "Train on 60000 samples, validate on 10000 samples\n",
            "Epoch 1/20\n",
            "60000/60000 [==============================] - 17s 278us/step - loss: 1.1571 - acc: 0.6180 - val_loss: 0.3037 - val_acc: 0.9096\n",
            "Epoch 2/20\n",
            "60000/60000 [==============================] - 11s 182us/step - loss: 0.2759 - acc: 0.9163 - val_loss: 0.1969 - val_acc: 0.9400\n",
            "Epoch 3/20\n",
            "60000/60000 [==============================] - 11s 181us/step - loss: 0.1911 - acc: 0.9422 - val_loss: 0.2703 - val_acc: 0.9099\n",
            "Epoch 4/20\n",
            "60000/60000 [==============================] - 11s 182us/step - loss: 0.1521 - acc: 0.9533 - val_loss: 0.1242 - val_acc: 0.9597\n",
            "Epoch 5/20\n",
            "60000/60000 [==============================] - 11s 182us/step - loss: 0.1290 - acc: 0.9610 - val_loss: 0.1466 - val_acc: 0.9576\n",
            "Epoch 6/20\n",
            "60000/60000 [==============================] - 11s 182us/step - loss: 0.1130 - acc: 0.9650 - val_loss: 0.0952 - val_acc: 0.9697\n",
            "Epoch 7/20\n",
            "60000/60000 [==============================] - 11s 180us/step - loss: 0.1006 - acc: 0.9690 - val_loss: 0.0962 - val_acc: 0.9710\n",
            "Epoch 8/20\n",
            "60000/60000 [==============================] - 11s 182us/step - loss: 0.0919 - acc: 0.9716 - val_loss: 0.0928 - val_acc: 0.9724\n",
            "Epoch 9/20\n",
            "60000/60000 [==============================] - 11s 182us/step - loss: 0.0846 - acc: 0.9734 - val_loss: 0.0778 - val_acc: 0.9764\n",
            "Epoch 10/20\n",
            "60000/60000 [==============================] - 11s 180us/step - loss: 0.0799 - acc: 0.9752 - val_loss: 0.0791 - val_acc: 0.9761\n",
            "Epoch 11/20\n",
            "60000/60000 [==============================] - 11s 181us/step - loss: 0.0744 - acc: 0.9770 - val_loss: 0.1024 - val_acc: 0.9700\n",
            "Epoch 12/20\n",
            "60000/60000 [==============================] - 11s 180us/step - loss: 0.0711 - acc: 0.9777 - val_loss: 0.0656 - val_acc: 0.9796\n",
            "Epoch 13/20\n",
            "60000/60000 [==============================] - 11s 183us/step - loss: 0.0679 - acc: 0.9789 - val_loss: 0.0666 - val_acc: 0.9779\n",
            "Epoch 14/20\n",
            "60000/60000 [==============================] - 11s 181us/step - loss: 0.0637 - acc: 0.9803 - val_loss: 0.0702 - val_acc: 0.9794\n",
            "Epoch 15/20\n",
            "60000/60000 [==============================] - 11s 180us/step - loss: 0.0609 - acc: 0.9811 - val_loss: 0.0679 - val_acc: 0.9784\n",
            "Epoch 16/20\n",
            "60000/60000 [==============================] - 11s 180us/step - loss: 0.0582 - acc: 0.9820 - val_loss: 0.0622 - val_acc: 0.9798\n",
            "Epoch 17/20\n",
            "60000/60000 [==============================] - 11s 180us/step - loss: 0.0556 - acc: 0.9827 - val_loss: 0.0903 - val_acc: 0.9711\n",
            "Epoch 18/20\n",
            "60000/60000 [==============================] - 11s 179us/step - loss: 0.0535 - acc: 0.9832 - val_loss: 0.0598 - val_acc: 0.9823\n",
            "Epoch 19/20\n",
            "60000/60000 [==============================] - 11s 180us/step - loss: 0.0520 - acc: 0.9838 - val_loss: 0.0612 - val_acc: 0.9810\n",
            "Epoch 20/20\n",
            "60000/60000 [==============================] - 11s 181us/step - loss: 0.0490 - acc: 0.9845 - val_loss: 0.0725 - val_acc: 0.9776\n"
          ],
          "name": "stdout"
        },
        {
          "output_type": "execute_result",
          "data": {
            "text/plain": [
              "<keras.callbacks.History at 0x7faa39311c50>"
            ]
          },
          "metadata": {
            "tags": []
          },
          "execution_count": 167
        }
      ]
    },
    {
      "cell_type": "markdown",
      "metadata": {
        "id": "zIUcbW58SU1h",
        "colab_type": "text"
      },
      "source": [
        "# Go Crazy (Batch Normalization, Drop Out, Learning Rate, Batch Size)"
      ]
    },
    {
      "cell_type": "code",
      "metadata": {
        "id": "HP4ClvbMST3v",
        "colab_type": "code",
        "colab": {
          "base_uri": "https://localhost:8080/",
          "height": 1000
        },
        "outputId": "03130911-3fca-4e8e-da4b-21f334065258"
      },
      "source": [
        "# Set up data\n",
        "(X_train, y_train), (X_test, y_test) = mnist.load_data()\n",
        "X_train = X_train.reshape(X_train.shape[0], 28, 28,1)                           \n",
        "X_test = X_test.reshape(X_test.shape[0], 28, 28,1)\n",
        "X_train = X_train.astype('float32')                                            \n",
        "X_test = X_test.astype('float32') \n",
        "X_train /= 255\n",
        "X_test /= 255\n",
        "Y_train = np_utils.to_categorical(y_train, 10)                                  \n",
        "Y_test = np_utils.to_categorical(y_test, 10)\n",
        "\n",
        "from keras.layers import Activation\n",
        "model = Sequential()\n",
        " \n",
        "model.add(Convolution2D(12, 3, 3, activation='relu', input_shape=(28,28,1)))    #26\n",
        "model.add(BatchNormalization())\n",
        "model.add(Dropout(0.1))\n",
        "\n",
        "model.add(Convolution2D(20, 3, 3, activation='relu'))                           #24\n",
        "model.add(BatchNormalization())\n",
        "model.add(Dropout(0.1))\n",
        "\n",
        "\n",
        "model.add(Convolution2D(10, 1, 1, activation='relu'))                           #24\n",
        "model.add(MaxPooling2D(pool_size=(2, 2)))                                       #12\n",
        "\n",
        "model.add(Convolution2D(16, 3, 3, activation='relu'))                           #10\n",
        "model.add(BatchNormalization())\n",
        "model.add(Dropout(0.1))\n",
        "model.add(Convolution2D(16, 3, 3, activation='relu'))                           #8\n",
        "model.add(BatchNormalization())\n",
        "model.add(Dropout(0.1))\n",
        "model.add(Convolution2D(16, 3, 3, activation='relu'))                           #6\n",
        "model.add(BatchNormalization())\n",
        "model.add(Dropout(0.1))\n",
        "model.add(Convolution2D(16, 3, 3, activation='relu'))                           #4\n",
        "model.add(BatchNormalization())\n",
        "model.add(Dropout(0.1))\n",
        "\n",
        "model.add(Convolution2D(10, 4))\n",
        "\n",
        "\n",
        "model.add(Flatten())\n",
        "model.add(Activation('softmax'))\n",
        "\n",
        "\n",
        "model.summary()\n",
        "# model.compile(loss='categorical_crossentropy',optimizer='sgd',metrics=['accuracy'])\n",
        "# model.fit(X_train, Y_train, batch_size=128, epochs=20, verbose=1, validation_data=(X_test, Y_test))"
      ],
      "execution_count": 168,
      "outputs": [
        {
          "output_type": "stream",
          "text": [
            "/usr/local/lib/python3.6/dist-packages/ipykernel_launcher.py:14: UserWarning: Update your `Conv2D` call to the Keras 2 API: `Conv2D(12, (3, 3), activation=\"relu\", input_shape=(28, 28, 1...)`\n",
            "  \n",
            "/usr/local/lib/python3.6/dist-packages/ipykernel_launcher.py:18: UserWarning: Update your `Conv2D` call to the Keras 2 API: `Conv2D(20, (3, 3), activation=\"relu\")`\n",
            "/usr/local/lib/python3.6/dist-packages/ipykernel_launcher.py:23: UserWarning: Update your `Conv2D` call to the Keras 2 API: `Conv2D(10, (1, 1), activation=\"relu\")`\n",
            "/usr/local/lib/python3.6/dist-packages/ipykernel_launcher.py:26: UserWarning: Update your `Conv2D` call to the Keras 2 API: `Conv2D(16, (3, 3), activation=\"relu\")`\n",
            "/usr/local/lib/python3.6/dist-packages/ipykernel_launcher.py:29: UserWarning: Update your `Conv2D` call to the Keras 2 API: `Conv2D(16, (3, 3), activation=\"relu\")`\n",
            "/usr/local/lib/python3.6/dist-packages/ipykernel_launcher.py:32: UserWarning: Update your `Conv2D` call to the Keras 2 API: `Conv2D(16, (3, 3), activation=\"relu\")`\n",
            "/usr/local/lib/python3.6/dist-packages/ipykernel_launcher.py:35: UserWarning: Update your `Conv2D` call to the Keras 2 API: `Conv2D(16, (3, 3), activation=\"relu\")`\n"
          ],
          "name": "stderr"
        },
        {
          "output_type": "stream",
          "text": [
            "Model: \"sequential_27\"\n",
            "_________________________________________________________________\n",
            "Layer (type)                 Output Shape              Param #   \n",
            "=================================================================\n",
            "conv2d_209 (Conv2D)          (None, 26, 26, 12)        120       \n",
            "_________________________________________________________________\n",
            "batch_normalization_55 (Batc (None, 26, 26, 12)        48        \n",
            "_________________________________________________________________\n",
            "dropout_55 (Dropout)         (None, 26, 26, 12)        0         \n",
            "_________________________________________________________________\n",
            "conv2d_210 (Conv2D)          (None, 24, 24, 20)        2180      \n",
            "_________________________________________________________________\n",
            "batch_normalization_56 (Batc (None, 24, 24, 20)        80        \n",
            "_________________________________________________________________\n",
            "dropout_56 (Dropout)         (None, 24, 24, 20)        0         \n",
            "_________________________________________________________________\n",
            "conv2d_211 (Conv2D)          (None, 24, 24, 10)        210       \n",
            "_________________________________________________________________\n",
            "max_pooling2d_27 (MaxPooling (None, 12, 12, 10)        0         \n",
            "_________________________________________________________________\n",
            "conv2d_212 (Conv2D)          (None, 10, 10, 16)        1456      \n",
            "_________________________________________________________________\n",
            "batch_normalization_57 (Batc (None, 10, 10, 16)        64        \n",
            "_________________________________________________________________\n",
            "dropout_57 (Dropout)         (None, 10, 10, 16)        0         \n",
            "_________________________________________________________________\n",
            "conv2d_213 (Conv2D)          (None, 8, 8, 16)          2320      \n",
            "_________________________________________________________________\n",
            "batch_normalization_58 (Batc (None, 8, 8, 16)          64        \n",
            "_________________________________________________________________\n",
            "dropout_58 (Dropout)         (None, 8, 8, 16)          0         \n",
            "_________________________________________________________________\n",
            "conv2d_214 (Conv2D)          (None, 6, 6, 16)          2320      \n",
            "_________________________________________________________________\n",
            "batch_normalization_59 (Batc (None, 6, 6, 16)          64        \n",
            "_________________________________________________________________\n",
            "dropout_59 (Dropout)         (None, 6, 6, 16)          0         \n",
            "_________________________________________________________________\n",
            "conv2d_215 (Conv2D)          (None, 4, 4, 16)          2320      \n",
            "_________________________________________________________________\n",
            "batch_normalization_60 (Batc (None, 4, 4, 16)          64        \n",
            "_________________________________________________________________\n",
            "dropout_60 (Dropout)         (None, 4, 4, 16)          0         \n",
            "_________________________________________________________________\n",
            "conv2d_216 (Conv2D)          (None, 1, 1, 10)          2570      \n",
            "_________________________________________________________________\n",
            "flatten_27 (Flatten)         (None, 10)                0         \n",
            "_________________________________________________________________\n",
            "activation_27 (Activation)   (None, 10)                0         \n",
            "=================================================================\n",
            "Total params: 13,880\n",
            "Trainable params: 13,688\n",
            "Non-trainable params: 192\n",
            "_________________________________________________________________\n"
          ],
          "name": "stdout"
        }
      ]
    },
    {
      "cell_type": "code",
      "metadata": {
        "id": "Zp6SuGrL9M3h",
        "colab_type": "code",
        "outputId": "2217f961-e324-45e3-98f0-a5b3c04a989f",
        "colab": {
          "base_uri": "https://localhost:8080/",
          "height": 1000
        }
      },
      "source": [
        "from keras.optimizers import Adam\n",
        "from keras.callbacks import LearningRateScheduler\n",
        "def scheduler(epoch, lr):\n",
        "  return round(0.003 * 1/(1 + 0.319 * epoch), 10)\n",
        "\n",
        "model.compile(loss='categorical_crossentropy', optimizer=Adam(lr=0.003), metrics=['accuracy'])\n",
        "\n",
        "model.fit(X_train, Y_train, batch_size=128, epochs=20, verbose=1, validation_data=(X_test, Y_test), callbacks=[LearningRateScheduler(scheduler, verbose=1)])"
      ],
      "execution_count": 169,
      "outputs": [
        {
          "output_type": "stream",
          "text": [
            "Train on 60000 samples, validate on 10000 samples\n",
            "Epoch 1/20\n",
            "\n",
            "Epoch 00001: LearningRateScheduler setting learning rate to 0.003.\n",
            "60000/60000 [==============================] - 21s 348us/step - loss: 0.2010 - acc: 0.9376 - val_loss: 0.0608 - val_acc: 0.9802\n",
            "Epoch 2/20\n",
            "\n",
            "Epoch 00002: LearningRateScheduler setting learning rate to 0.0022744503.\n",
            "60000/60000 [==============================] - 10s 173us/step - loss: 0.0618 - acc: 0.9811 - val_loss: 0.0547 - val_acc: 0.9823\n",
            "Epoch 3/20\n",
            "\n",
            "Epoch 00003: LearningRateScheduler setting learning rate to 0.0018315018.\n",
            "60000/60000 [==============================] - 10s 173us/step - loss: 0.0507 - acc: 0.9843 - val_loss: 0.0382 - val_acc: 0.9887\n",
            "Epoch 4/20\n",
            "\n",
            "Epoch 00004: LearningRateScheduler setting learning rate to 0.0015329586.\n",
            "60000/60000 [==============================] - 10s 174us/step - loss: 0.0416 - acc: 0.9874 - val_loss: 0.0278 - val_acc: 0.9908\n",
            "Epoch 5/20\n",
            "\n",
            "Epoch 00005: LearningRateScheduler setting learning rate to 0.0013181019.\n",
            "60000/60000 [==============================] - 10s 174us/step - loss: 0.0377 - acc: 0.9882 - val_loss: 0.0379 - val_acc: 0.9883\n",
            "Epoch 6/20\n",
            "\n",
            "Epoch 00006: LearningRateScheduler setting learning rate to 0.0011560694.\n",
            "60000/60000 [==============================] - 10s 174us/step - loss: 0.0339 - acc: 0.9890 - val_loss: 0.0249 - val_acc: 0.9931\n",
            "Epoch 7/20\n",
            "\n",
            "Epoch 00007: LearningRateScheduler setting learning rate to 0.0010295127.\n",
            "60000/60000 [==============================] - 10s 173us/step - loss: 0.0305 - acc: 0.9904 - val_loss: 0.0279 - val_acc: 0.9912\n",
            "Epoch 8/20\n",
            "\n",
            "Epoch 00008: LearningRateScheduler setting learning rate to 0.0009279307.\n",
            "60000/60000 [==============================] - 10s 173us/step - loss: 0.0288 - acc: 0.9907 - val_loss: 0.0242 - val_acc: 0.9916\n",
            "Epoch 9/20\n",
            "\n",
            "Epoch 00009: LearningRateScheduler setting learning rate to 0.0008445946.\n",
            "60000/60000 [==============================] - 10s 172us/step - loss: 0.0280 - acc: 0.9911 - val_loss: 0.0206 - val_acc: 0.9936\n",
            "Epoch 10/20\n",
            "\n",
            "Epoch 00010: LearningRateScheduler setting learning rate to 0.0007749935.\n",
            "60000/60000 [==============================] - 10s 173us/step - loss: 0.0258 - acc: 0.9917 - val_loss: 0.0210 - val_acc: 0.9936\n",
            "Epoch 11/20\n",
            "\n",
            "Epoch 00011: LearningRateScheduler setting learning rate to 0.0007159905.\n",
            "60000/60000 [==============================] - 10s 173us/step - loss: 0.0247 - acc: 0.9919 - val_loss: 0.0206 - val_acc: 0.9930\n",
            "Epoch 12/20\n",
            "\n",
            "Epoch 00012: LearningRateScheduler setting learning rate to 0.000665336.\n",
            "60000/60000 [==============================] - 10s 173us/step - loss: 0.0223 - acc: 0.9927 - val_loss: 0.0211 - val_acc: 0.9942\n",
            "Epoch 13/20\n",
            "\n",
            "Epoch 00013: LearningRateScheduler setting learning rate to 0.0006213753.\n",
            "60000/60000 [==============================] - 10s 173us/step - loss: 0.0210 - acc: 0.9930 - val_loss: 0.0217 - val_acc: 0.9928\n",
            "Epoch 14/20\n",
            "\n",
            "Epoch 00014: LearningRateScheduler setting learning rate to 0.0005828638.\n",
            "60000/60000 [==============================] - 10s 173us/step - loss: 0.0208 - acc: 0.9931 - val_loss: 0.0202 - val_acc: 0.9945\n",
            "Epoch 15/20\n",
            "\n",
            "Epoch 00015: LearningRateScheduler setting learning rate to 0.0005488474.\n",
            "60000/60000 [==============================] - 10s 173us/step - loss: 0.0200 - acc: 0.9937 - val_loss: 0.0199 - val_acc: 0.9941\n",
            "Epoch 16/20\n",
            "\n",
            "Epoch 00016: LearningRateScheduler setting learning rate to 0.0005185825.\n",
            "60000/60000 [==============================] - 10s 175us/step - loss: 0.0193 - acc: 0.9939 - val_loss: 0.0206 - val_acc: 0.9934\n",
            "Epoch 17/20\n",
            "\n",
            "Epoch 00017: LearningRateScheduler setting learning rate to 0.000491481.\n",
            "60000/60000 [==============================] - 10s 172us/step - loss: 0.0182 - acc: 0.9943 - val_loss: 0.0227 - val_acc: 0.9936\n",
            "Epoch 18/20\n",
            "\n",
            "Epoch 00018: LearningRateScheduler setting learning rate to 0.0004670715.\n",
            "60000/60000 [==============================] - 10s 174us/step - loss: 0.0170 - acc: 0.9945 - val_loss: 0.0223 - val_acc: 0.9928\n",
            "Epoch 19/20\n",
            "\n",
            "Epoch 00019: LearningRateScheduler setting learning rate to 0.0004449718.\n",
            "60000/60000 [==============================] - 10s 173us/step - loss: 0.0177 - acc: 0.9944 - val_loss: 0.0195 - val_acc: 0.9934\n",
            "Epoch 20/20\n",
            "\n",
            "Epoch 00020: LearningRateScheduler setting learning rate to 0.000424869.\n",
            "60000/60000 [==============================] - 10s 172us/step - loss: 0.0175 - acc: 0.9942 - val_loss: 0.0250 - val_acc: 0.9919\n"
          ],
          "name": "stdout"
        },
        {
          "output_type": "execute_result",
          "data": {
            "text/plain": [
              "<keras.callbacks.History at 0x7faa34bbbf98>"
            ]
          },
          "metadata": {
            "tags": []
          },
          "execution_count": 169
        }
      ]
    },
    {
      "cell_type": "code",
      "metadata": {
        "id": "AtsH-lLk-eLb",
        "colab_type": "code",
        "colab": {}
      },
      "source": [
        "score = model.evaluate(X_test, Y_test, verbose=0)                               # Evaluate the Model over test data"
      ],
      "execution_count": 0,
      "outputs": []
    },
    {
      "cell_type": "code",
      "metadata": {
        "id": "mkX8JMv79q9r",
        "colab_type": "code",
        "outputId": "12094156-ef9d-472e-e06f-22e14d598e95",
        "colab": {
          "base_uri": "https://localhost:8080/",
          "height": 34
        }
      },
      "source": [
        "print(score)                                                                    # Accuracy over test data."
      ],
      "execution_count": 171,
      "outputs": [
        {
          "output_type": "stream",
          "text": [
            "[0.02502111189525458, 0.9919]\n"
          ],
          "name": "stdout"
        }
      ]
    },
    {
      "cell_type": "code",
      "metadata": {
        "id": "OCWoJkwE9suh",
        "colab_type": "code",
        "colab": {}
      },
      "source": [
        "y_pred = model.predict(X_test)                                                  # predicting the values with validation accuracy"
      ],
      "execution_count": 0,
      "outputs": []
    },
    {
      "cell_type": "code",
      "metadata": {
        "id": "Ym7iCFBm9uBs",
        "colab_type": "code",
        "outputId": "4b6d7317-5240-4ddf-e58c-ac449585faa6",
        "colab": {
          "base_uri": "https://localhost:8080/",
          "height": 514
        }
      },
      "source": [
        "print(y_pred[:9])                                                               \n",
        "print(y_test[:9])"
      ],
      "execution_count": 173,
      "outputs": [
        {
          "output_type": "stream",
          "text": [
            "[[1.77356352e-10 1.38370897e-08 5.53740431e-09 2.52708588e-07\n",
            "  5.84770543e-09 1.14957115e-11 1.46319198e-12 9.99999762e-01\n",
            "  7.75582463e-12 1.21467041e-08]\n",
            " [2.83987323e-08 2.97360820e-08 9.99999404e-01 2.66138356e-09\n",
            "  1.80243607e-08 2.70132770e-11 5.75207650e-07 1.39992762e-09\n",
            "  4.69645229e-08 2.78989193e-10]\n",
            " [2.79346857e-09 9.99998331e-01 5.19342291e-10 1.59502175e-10\n",
            "  8.67906635e-07 1.29383626e-09 8.95025654e-09 6.47722572e-07\n",
            "  2.50251042e-10 1.10480094e-07]\n",
            " [9.99956131e-01 6.80024023e-11 9.10567355e-09 4.82360374e-10\n",
            "  3.38586492e-09 1.47965524e-08 4.37757590e-05 6.48490683e-09\n",
            "  2.72586131e-08 4.26650857e-08]\n",
            " [4.68651116e-12 3.98746647e-10 1.35070802e-10 2.23131930e-11\n",
            "  9.99993920e-01 2.52217691e-12 9.01732716e-11 1.50656021e-07\n",
            "  2.68044587e-10 6.01666579e-06]\n",
            " [1.70645509e-09 9.99998927e-01 3.79426185e-10 7.61960113e-12\n",
            "  8.55734612e-08 1.03927193e-10 8.99346764e-10 9.35806497e-07\n",
            "  2.75858537e-11 5.19399670e-08]\n",
            " [3.40549915e-11 1.16048363e-06 1.04308491e-08 1.13264842e-09\n",
            "  9.99914169e-01 2.99603342e-09 2.32015379e-10 1.12304788e-05\n",
            "  1.61984451e-06 7.18403535e-05]\n",
            " [7.48661311e-09 2.57626365e-09 3.13930393e-08 5.61856211e-07\n",
            "  4.67215068e-06 2.21009433e-09 1.47021267e-11 1.18842848e-07\n",
            "  3.46977984e-08 9.99994636e-01]\n",
            " [5.79542547e-09 2.21050565e-12 7.05992625e-11 3.53693880e-10\n",
            "  8.98955042e-12 9.97459948e-01 2.53179576e-03 3.70561942e-10\n",
            "  6.01708734e-06 2.31407967e-06]]\n",
            "[7 2 1 0 4 1 4 9 5]\n"
          ],
          "name": "stdout"
        }
      ]
    },
    {
      "cell_type": "code",
      "metadata": {
        "id": "CT--y98_dr2T",
        "colab_type": "code",
        "colab": {}
      },
      "source": [
        "layer_dict = dict([(layer.name, layer) for layer in model.layers])"
      ],
      "execution_count": 0,
      "outputs": []
    },
    {
      "cell_type": "code",
      "metadata": {
        "id": "2GY4Upv4dsUR",
        "colab_type": "code",
        "outputId": "921c2685-467e-4f07-9b77-f3c632808c6a",
        "colab": {
          "base_uri": "https://localhost:8080/",
          "height": 327
        }
      },
      "source": [
        "import numpy as np\n",
        "from matplotlib import pyplot as plt\n",
        "from keras import backend as K\n",
        "%matplotlib inline\n",
        "# util function to convert a tensor into a valid image\n",
        "def deprocess_image(x):\n",
        "    # normalize tensor: center on 0., ensure std is 0.1\n",
        "    x -= x.mean()\n",
        "    x /= (x.std() + 1e-5)\n",
        "    x *= 0.1\n",
        "\n",
        "    # clip to [0, 1]\n",
        "    x += 0.5\n",
        "    x = np.clip(x, 0, 1)\n",
        "\n",
        "    # convert to RGB array\n",
        "    x *= 255\n",
        "    #x = x.transpose((1, 2, 0))\n",
        "    x = np.clip(x, 0, 255).astype('uint8')\n",
        "    return x\n",
        "\n",
        "def vis_img_in_filter(img = np.array(X_train[2]).reshape((1, 28, 28, 1)).astype(np.float64), \n",
        "                      layer_name = 'conv2d_14'):\n",
        "    layer_output = layer_dict[layer_name].output\n",
        "    img_ascs = list()\n",
        "    for filter_index in range(layer_output.shape[3]):\n",
        "        # build a loss function that maximizes the activation\n",
        "        # of the nth filter of the layer considered\n",
        "        loss = K.mean(layer_output[:, :, :, filter_index])\n",
        "\n",
        "        # compute the gradient of the input picture wrt this loss\n",
        "        grads = K.gradients(loss, model.input)[0]\n",
        "\n",
        "        # normalization trick: we normalize the gradient\n",
        "        grads /= (K.sqrt(K.mean(K.square(grads))) + 1e-5)\n",
        "\n",
        "        # this function returns the loss and grads given the input picture\n",
        "        iterate = K.function([model.input], [loss, grads])\n",
        "\n",
        "        # step size for gradient ascent\n",
        "        step = 5.\n",
        "\n",
        "        img_asc = np.array(img)\n",
        "        # run gradient ascent for 20 steps\n",
        "        for i in range(20):\n",
        "            loss_value, grads_value = iterate([img_asc])\n",
        "            img_asc += grads_value * step\n",
        "\n",
        "        img_asc = img_asc[0]\n",
        "        img_ascs.append(deprocess_image(img_asc).reshape((28, 28)))\n",
        "        \n",
        "    if layer_output.shape[3] >= 35:\n",
        "        plot_x, plot_y = 6, 6\n",
        "    elif layer_output.shape[3] >= 23:\n",
        "        plot_x, plot_y = 4, 6\n",
        "    elif layer_output.shape[3] >= 11:\n",
        "        plot_x, plot_y = 2, 6\n",
        "    else:\n",
        "        plot_x, plot_y = 1, 2\n",
        "    fig, ax = plt.subplots(plot_x, plot_y, figsize = (12, 12))\n",
        "    ax[0, 0].imshow(img.reshape((28, 28)), cmap = 'gray')\n",
        "    ax[0, 0].set_title('Input image')\n",
        "    fig.suptitle('Input image and %s filters' % (layer_name,))\n",
        "    fig.tight_layout(pad = 0.3, rect = [0, 0, 0.9, 0.9])\n",
        "    for (x, y) in [(i, j) for i in range(plot_x) for j in range(plot_y)]:\n",
        "        if x == 0 and y == 0:\n",
        "            continue\n",
        "        ax[x, y].imshow(img_ascs[x * plot_y + y - 1], cmap = 'gray')\n",
        "        ax[x, y].set_title('filter %d' % (x * plot_y + y - 1))\n",
        "\n",
        "vis_img_in_filter()"
      ],
      "execution_count": 175,
      "outputs": [
        {
          "output_type": "error",
          "ename": "KeyError",
          "evalue": "ignored",
          "traceback": [
            "\u001b[0;31m---------------------------------------------------------------------------\u001b[0m",
            "\u001b[0;31mKeyError\u001b[0m                                  Traceback (most recent call last)",
            "\u001b[0;32m<ipython-input-175-19229f66b51a>\u001b[0m in \u001b[0;36m<module>\u001b[0;34m()\u001b[0m\n\u001b[1;32m     69\u001b[0m         \u001b[0max\u001b[0m\u001b[0;34m[\u001b[0m\u001b[0mx\u001b[0m\u001b[0;34m,\u001b[0m \u001b[0my\u001b[0m\u001b[0;34m]\u001b[0m\u001b[0;34m.\u001b[0m\u001b[0mset_title\u001b[0m\u001b[0;34m(\u001b[0m\u001b[0;34m'filter %d'\u001b[0m \u001b[0;34m%\u001b[0m \u001b[0;34m(\u001b[0m\u001b[0mx\u001b[0m \u001b[0;34m*\u001b[0m \u001b[0mplot_y\u001b[0m \u001b[0;34m+\u001b[0m \u001b[0my\u001b[0m \u001b[0;34m-\u001b[0m \u001b[0;36m1\u001b[0m\u001b[0;34m)\u001b[0m\u001b[0;34m)\u001b[0m\u001b[0;34m\u001b[0m\u001b[0;34m\u001b[0m\u001b[0m\n\u001b[1;32m     70\u001b[0m \u001b[0;34m\u001b[0m\u001b[0m\n\u001b[0;32m---> 71\u001b[0;31m \u001b[0mvis_img_in_filter\u001b[0m\u001b[0;34m(\u001b[0m\u001b[0;34m)\u001b[0m\u001b[0;34m\u001b[0m\u001b[0;34m\u001b[0m\u001b[0m\n\u001b[0m",
            "\u001b[0;32m<ipython-input-175-19229f66b51a>\u001b[0m in \u001b[0;36mvis_img_in_filter\u001b[0;34m(img, layer_name)\u001b[0m\n\u001b[1;32m     22\u001b[0m def vis_img_in_filter(img = np.array(X_train[2]).reshape((1, 28, 28, 1)).astype(np.float64), \n\u001b[1;32m     23\u001b[0m                       layer_name = 'conv2d_14'):\n\u001b[0;32m---> 24\u001b[0;31m     \u001b[0mlayer_output\u001b[0m \u001b[0;34m=\u001b[0m \u001b[0mlayer_dict\u001b[0m\u001b[0;34m[\u001b[0m\u001b[0mlayer_name\u001b[0m\u001b[0;34m]\u001b[0m\u001b[0;34m.\u001b[0m\u001b[0moutput\u001b[0m\u001b[0;34m\u001b[0m\u001b[0;34m\u001b[0m\u001b[0m\n\u001b[0m\u001b[1;32m     25\u001b[0m     \u001b[0mimg_ascs\u001b[0m \u001b[0;34m=\u001b[0m \u001b[0mlist\u001b[0m\u001b[0;34m(\u001b[0m\u001b[0;34m)\u001b[0m\u001b[0;34m\u001b[0m\u001b[0;34m\u001b[0m\u001b[0m\n\u001b[1;32m     26\u001b[0m     \u001b[0;32mfor\u001b[0m \u001b[0mfilter_index\u001b[0m \u001b[0;32min\u001b[0m \u001b[0mrange\u001b[0m\u001b[0;34m(\u001b[0m\u001b[0mlayer_output\u001b[0m\u001b[0;34m.\u001b[0m\u001b[0mshape\u001b[0m\u001b[0;34m[\u001b[0m\u001b[0;36m3\u001b[0m\u001b[0;34m]\u001b[0m\u001b[0;34m)\u001b[0m\u001b[0;34m:\u001b[0m\u001b[0;34m\u001b[0m\u001b[0;34m\u001b[0m\u001b[0m\n",
            "\u001b[0;31mKeyError\u001b[0m: 'conv2d_14'"
          ]
        }
      ]
    },
    {
      "cell_type": "code",
      "metadata": {
        "id": "9tvptcn8dxvp",
        "colab_type": "code",
        "colab": {}
      },
      "source": [
        ""
      ],
      "execution_count": 0,
      "outputs": []
    }
  ]
}