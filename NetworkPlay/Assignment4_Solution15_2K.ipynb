{
  "nbformat": 4,
  "nbformat_minor": 0,
  "metadata": {
    "colab": {
      "name": "Assignment4.ipynb",
      "provenance": [],
      "collapsed_sections": [],
      "include_colab_link": true
    },
    "kernelspec": {
      "name": "python3",
      "display_name": "Python 3"
    },
    "accelerator": "GPU"
  },
  "cells": [
    {
      "cell_type": "markdown",
      "metadata": {
        "id": "view-in-github",
        "colab_type": "text"
      },
      "source": [
        "<a href=\"https://colab.research.google.com/github/Abhinavl3v3l/EVA3/blob/master/Assignment4_Solution15_2K.ipynb\" target=\"_parent\"><img src=\"https://colab.research.google.com/assets/colab-badge.svg\" alt=\"Open In Colab\"/></a>"
      ]
    },
    {
      "cell_type": "markdown",
      "metadata": {
        "id": "aNyZv-Ec52ot",
        "colab_type": "text"
      },
      "source": [
        "# **Import Libraries and modules**"
      ]
    },
    {
      "cell_type": "code",
      "metadata": {
        "id": "3m3w1Cw49Zkt",
        "colab_type": "code",
        "colab": {}
      },
      "source": [
        "# https://keras.io/\n",
        "!pip install -q keras\n",
        "import keras"
      ],
      "execution_count": 0,
      "outputs": []
    },
    {
      "cell_type": "code",
      "metadata": {
        "id": "Eso6UHE080D4",
        "colab_type": "code",
        "colab": {}
      },
      "source": [
        "import numpy as np\n",
        "\n",
        "from keras.models import Sequential\n",
        "from keras.layers import Dense, Dropout, Activation, Flatten, Add, BatchNormalization\n",
        "from keras.layers import Convolution2D, MaxPooling2D\n",
        "from keras.utils import np_utils\n",
        "\n",
        "from keras.datasets import mnist                                                # Importing Necessary Libraries and dataset(in keras)"
      ],
      "execution_count": 0,
      "outputs": []
    },
    {
      "cell_type": "markdown",
      "metadata": {
        "id": "zByEi95J86RD",
        "colab_type": "text"
      },
      "source": [
        "### Load pre-shuffled MNIST data into train and test sets"
      ]
    },
    {
      "cell_type": "code",
      "metadata": {
        "id": "7eRM0QWN83PV",
        "colab_type": "code",
        "colab": {}
      },
      "source": [
        "(X_train, y_train), (X_test, y_test) = mnist.load_data()                        # mnist data divided into Training and Test Data\n",
        "                                                                                # Where X_train are 60K 28x28 gray scale training images of numbers from [0-9] \n",
        "                                                                                # y_train are label of numbers from [0-9]"
      ],
      "execution_count": 0,
      "outputs": []
    },
    {
      "cell_type": "markdown",
      "metadata": {
        "id": "mJQpLXHL20uf",
        "colab_type": "text"
      },
      "source": [
        ""
      ]
    },
    {
      "cell_type": "code",
      "metadata": {
        "id": "4a4Be72j8-ZC",
        "colab_type": "code",
        "outputId": "4ce81f27-4fad-45cf-80e8-86762a246deb",
        "colab": {
          "base_uri": "https://localhost:8080/",
          "height": 305
        }
      },
      "source": [
        "print (X_train.shape)\n",
        "from matplotlib import pyplot as plt\n",
        "%matplotlib inline\n",
        "plt.imshow(X_train[0])                                                           # Displaying what one of the images look like."
      ],
      "execution_count": 24,
      "outputs": [
        {
          "output_type": "stream",
          "text": [
            "(60000, 28, 28)\n"
          ],
          "name": "stdout"
        },
        {
          "output_type": "execute_result",
          "data": {
            "text/plain": [
              "<matplotlib.image.AxesImage at 0x7fa789b8b438>"
            ]
          },
          "metadata": {
            "tags": []
          },
          "execution_count": 24
        },
        {
          "output_type": "display_data",
          "data": {
            "image/png": "[encoded data removed]",
            "text/plain": [
              "<Figure size 432x288 with 1 Axes>"
            ]
          },
          "metadata": {
            "tags": []
          }
        }
      ]
    },
    {
      "cell_type": "code",
      "metadata": {
        "id": "dkmprriw9AnZ",
        "colab_type": "code",
        "colab": {}
      },
      "source": [
        "X_train = X_train.reshape(X_train.shape[0], 28, 28,1)                           # (60000, 28, 28) ->  (60000, 28, 28, 1)\n",
        "X_test = X_test.reshape(X_test.shape[0], 28, 28,1)"
      ],
      "execution_count": 0,
      "outputs": []
    },
    {
      "cell_type": "code",
      "metadata": {
        "id": "X2m4YS4E9CRh",
        "colab_type": "code",
        "colab": {}
      },
      "source": [
        "X_train = X_train.astype('float32')                                             # Convert to float type\n",
        "X_test = X_test.astype('float32') \n",
        "X_train /= 255\n",
        "X_test /= 255                                                                   # Floating Value ranges from [0,1]"
      ],
      "execution_count": 0,
      "outputs": []
    },
    {
      "cell_type": "code",
      "metadata": {
        "id": "0Mn0vAYD9DvB",
        "colab_type": "code",
        "outputId": "017361cc-1e57-4f5e-b86a-88c61064230d",
        "colab": {
          "base_uri": "https://localhost:8080/",
          "height": 35
        }
      },
      "source": [
        "y_train[:10]"
      ],
      "execution_count": 27,
      "outputs": [
        {
          "output_type": "execute_result",
          "data": {
            "text/plain": [
              "array([5, 0, 4, 1, 9, 2, 1, 3, 1, 4], dtype=uint8)"
            ]
          },
          "metadata": {
            "tags": []
          },
          "execution_count": 27
        }
      ]
    },
    {
      "cell_type": "code",
      "metadata": {
        "id": "ZG8JiXR39FHC",
        "colab_type": "code",
        "colab": {}
      },
      "source": [
        "# Convert 1-dimensional class arrays to 10-dimensional class matrices\n",
        "Y_train = np_utils.to_categorical(y_train, 10)                                  \n",
        "Y_test = np_utils.to_categorical(y_test, 10)"
      ],
      "execution_count": 0,
      "outputs": []
    },
    {
      "cell_type": "code",
      "metadata": {
        "id": "fYlFRvKS9HMB",
        "colab_type": "code",
        "outputId": "d08256fc-71b4-4fa3-fbbd-37aec0c697ed",
        "colab": {
          "base_uri": "https://localhost:8080/",
          "height": 195
        }
      },
      "source": [
        "Y_train[:10]                                                                    ## y_train to Y_train  - example,5 value is converted to an array where 5th element of array is 1(lit) and rest all is 0 \n",
        "                                                                                \n",
        "                                                                                # OR \n",
        "                                                                                \n",
        "                                                                                # 1 Hot Encoded  \n"
      ],
      "execution_count": 29,
      "outputs": [
        {
          "output_type": "execute_result",
          "data": {
            "text/plain": [
              "array([[0., 0., 0., 0., 0., 1., 0., 0., 0., 0.],\n",
              "       [1., 0., 0., 0., 0., 0., 0., 0., 0., 0.],\n",
              "       [0., 0., 0., 0., 1., 0., 0., 0., 0., 0.],\n",
              "       [0., 1., 0., 0., 0., 0., 0., 0., 0., 0.],\n",
              "       [0., 0., 0., 0., 0., 0., 0., 0., 0., 1.],\n",
              "       [0., 0., 1., 0., 0., 0., 0., 0., 0., 0.],\n",
              "       [0., 1., 0., 0., 0., 0., 0., 0., 0., 0.],\n",
              "       [0., 0., 0., 1., 0., 0., 0., 0., 0., 0.],\n",
              "       [0., 1., 0., 0., 0., 0., 0., 0., 0., 0.],\n",
              "       [0., 0., 0., 0., 1., 0., 0., 0., 0., 0.]], dtype=float32)"
            ]
          },
          "metadata": {
            "tags": []
          },
          "execution_count": 29
        }
      ]
    },
    {
      "cell_type": "markdown",
      "metadata": {
        "id": "lCY5SFWYBoew",
        "colab_type": "text"
      },
      "source": [
        "### This assignment's code is divided into 4 parts. \n",
        "\n",
        "1.    Architecture( remains constant).\n",
        "2.    Kernel Optimization to fit under 15K constraint.\n",
        "3.    Go Crazy (Batch Normalization, Drop Out, Learning Rate, Batch Size).\n",
        "4.    Accuracy above 99.4% (if possible less than 15 epochs)\n",
        "\n",
        "#### Guidelines\n",
        "1.    Make sure you are tracking your code's performance, and writing down your observations as you achieve better or worse results\n",
        "2.    Your second code can only have max 2 improvements over first one, third can have only max 2 over second and so on. \n",
        "3.    All of your iterations are in different CODE BLOCKS and named properly like First CODE, Second CODE, etc\n",
        "4.    All of your iterations have a Header note, describing what all you are planning to do in this code\n",
        "5.    All of your code is very well documented\n",
        "6.    There is a readme file (or embedded documentation) describing your codes and steps you've taken\n",
        "\n",
        "\n"
      ]
    },
    {
      "cell_type": "markdown",
      "metadata": {
        "id": "vrLcv7xIDfs9",
        "colab_type": "text"
      },
      "source": [
        "# CODE 1 - Architecture"
      ]
    },
    {
      "cell_type": "code",
      "metadata": {
        "id": "osKqT73Q9JJB",
        "colab_type": "code",
        "colab": {}
      },
      "source": [
        "# # Building the layers for maximum accuracy\n",
        "# from keras.layers import Activation\n",
        "# model = Sequential()\n",
        "\n",
        "\n",
        "# model.add(Convolution2D(16, (3, 3), activation='relu', input_shape=(28,28,1)))  # Input Image size 28x28x1, 3x3 convolution with 32 channels,     GRF = 3, Parameters = 3x3x32x1  + 32        = 320           Output Image = 26x26x32\n",
        "# model.add(Convolution2D(20, (3, 3), activation='relu'))  #24\n",
        "# model.add(Convolution2D(24, (3, 3), activation='relu'))  #22\n",
        "# model.add(Convolution2D(8, 1, activation='relu'))                              \n",
        "\n",
        "# model.add(MaxPooling2D(pool_size=(2, 2))) #11\n",
        "\n",
        "# model.add(Convolution2D(16, (3, 3), activation='relu'))  #9\n",
        "# model.add(Convolution2D(20, (3, 3), activation='relu'))  #7\n",
        "# model.add(Convolution2D(24, (3, 3), activation='relu'))  #5\n",
        "\n",
        "# model.add(Convolution2D(25, 1, activation='relu')) \n",
        "# model.add(Convolution2D(10, 5))\n",
        "\n",
        "# model.add(Flatten())\n",
        "# model.add(Activation('softmax'))"
      ],
      "execution_count": 0,
      "outputs": []
    },
    {
      "cell_type": "code",
      "metadata": {
        "id": "7kFKpT7_YkY9",
        "colab_type": "code",
        "colab": {}
      },
      "source": [
        "from keras.layers import Activation\n",
        "model = Sequential()\n",
        "\n",
        "\n",
        "model.add(Convolution2D(16, (3, 3), activation='relu', input_shape=(28,28,1)))#26  \n",
        "model.add(BatchNormalization())\n",
        "model.add(Dropout(0.1))\n",
        "\n",
        "model.add(Convolution2D(16, (3, 3), activation='relu'))  #24\n",
        "model.add(BatchNormalization())\n",
        "model.add(Dropout(0.1))\n",
        "\n",
        "\n",
        "\n",
        "model.add(Convolution2D(20, (3, 3), activation='relu'))  #22\n",
        "model.add(BatchNormalization())\n",
        "model.add(Dropout(0.1))\n",
        "\n",
        "\n",
        "model.add(Convolution2D(10, 1, activation='relu'))\n",
        "\n",
        "model.add(MaxPooling2D(pool_size=(2, 2))) #11\n",
        "\n",
        "model.add(Convolution2D(16, (3, 3), activation='relu'))  #9\n",
        "model.add(BatchNormalization())\n",
        "model.add(Dropout(0.1))\n",
        "\n",
        "\n",
        "model.add(Convolution2D(16, (3, 3), activation='relu'))  #7\n",
        "model.add(BatchNormalization())\n",
        "model.add(Dropout(0.1))\n",
        "\n",
        "model.add(Convolution2D(10, 1, activation='relu'))\n",
        "model.add(BatchNormalization())\n",
        "model.add(Dropout(0.1))\n",
        "\n",
        "model.add(Convolution2D(16, (3, 3), activation='relu'))  #5\n",
        "model.add(BatchNormalization())\n",
        "model.add(Dropout(0.1))\n",
        "\n",
        "model.add(Convolution2D(10, 5))\n",
        "model.add(Flatten())\n",
        "model.add(Activation('softmax'))"
      ],
      "execution_count": 0,
      "outputs": []
    },
    {
      "cell_type": "code",
      "metadata": {
        "id": "TzdAYg1k9K7Z",
        "colab_type": "code",
        "outputId": "d3f26479-193e-470f-9d94-6a827712035e",
        "colab": {
          "base_uri": "https://localhost:8080/",
          "height": 1000
        }
      },
      "source": [
        "model.summary()"
      ],
      "execution_count": 32,
      "outputs": [
        {
          "output_type": "stream",
          "text": [
            "Model: \"sequential_2\"\n",
            "_________________________________________________________________\n",
            "Layer (type)                 Output Shape              Param #   \n",
            "=================================================================\n",
            "conv2d_10 (Conv2D)           (None, 26, 26, 16)        160       \n",
            "_________________________________________________________________\n",
            "batch_normalization_8 (Batch (None, 26, 26, 16)        64        \n",
            "_________________________________________________________________\n",
            "dropout_8 (Dropout)          (None, 26, 26, 16)        0         \n",
            "_________________________________________________________________\n",
            "conv2d_11 (Conv2D)           (None, 24, 24, 16)        2320      \n",
            "_________________________________________________________________\n",
            "batch_normalization_9 (Batch (None, 24, 24, 16)        64        \n",
            "_________________________________________________________________\n",
            "dropout_9 (Dropout)          (None, 24, 24, 16)        0         \n",
            "_________________________________________________________________\n",
            "conv2d_12 (Conv2D)           (None, 22, 22, 20)        2900      \n",
            "_________________________________________________________________\n",
            "batch_normalization_10 (Batc (None, 22, 22, 20)        80        \n",
            "_________________________________________________________________\n",
            "dropout_10 (Dropout)         (None, 22, 22, 20)        0         \n",
            "_________________________________________________________________\n",
            "conv2d_13 (Conv2D)           (None, 22, 22, 10)        210       \n",
            "_________________________________________________________________\n",
            "max_pooling2d_2 (MaxPooling2 (None, 11, 11, 10)        0         \n",
            "_________________________________________________________________\n",
            "conv2d_14 (Conv2D)           (None, 9, 9, 16)          1456      \n",
            "_________________________________________________________________\n",
            "batch_normalization_11 (Batc (None, 9, 9, 16)          64        \n",
            "_________________________________________________________________\n",
            "dropout_11 (Dropout)         (None, 9, 9, 16)          0         \n",
            "_________________________________________________________________\n",
            "conv2d_15 (Conv2D)           (None, 7, 7, 16)          2320      \n",
            "_________________________________________________________________\n",
            "batch_normalization_12 (Batc (None, 7, 7, 16)          64        \n",
            "_________________________________________________________________\n",
            "dropout_12 (Dropout)         (None, 7, 7, 16)          0         \n",
            "_________________________________________________________________\n",
            "conv2d_16 (Conv2D)           (None, 7, 7, 10)          170       \n",
            "_________________________________________________________________\n",
            "batch_normalization_13 (Batc (None, 7, 7, 10)          40        \n",
            "_________________________________________________________________\n",
            "dropout_13 (Dropout)         (None, 7, 7, 10)          0         \n",
            "_________________________________________________________________\n",
            "conv2d_17 (Conv2D)           (None, 5, 5, 16)          1456      \n",
            "_________________________________________________________________\n",
            "batch_normalization_14 (Batc (None, 5, 5, 16)          64        \n",
            "_________________________________________________________________\n",
            "dropout_14 (Dropout)         (None, 5, 5, 16)          0         \n",
            "_________________________________________________________________\n",
            "conv2d_18 (Conv2D)           (None, 1, 1, 10)          4010      \n",
            "_________________________________________________________________\n",
            "flatten_2 (Flatten)          (None, 10)                0         \n",
            "_________________________________________________________________\n",
            "activation_2 (Activation)    (None, 10)                0         \n",
            "=================================================================\n",
            "Total params: 15,442\n",
            "Trainable params: 15,222\n",
            "Non-trainable params: 220\n",
            "_________________________________________________________________\n"
          ],
          "name": "stdout"
        }
      ]
    },
    {
      "cell_type": "code",
      "metadata": {
        "id": "Zp6SuGrL9M3h",
        "colab_type": "code",
        "colab": {}
      },
      "source": [
        "model.compile(loss='categorical_crossentropy',                              \n",
        "             optimizer='adam',\n",
        "             metrics=['accuracy'])                                              # Compiler or function which calculate and adjust the loss using a loss function and measure in accuracy. A function which will optimize all the features generated. \n",
        "                                                                                # Optimizer.\n",
        "\n",
        "\n",
        "from keras.optimizers import Adam\n",
        "from keras.callbacks import LearningRateScheduler\n",
        "def scheduler(epoch, lr):\n",
        "  return round(0.003 * 1/(1 + 0.319 * epoch), 10)"
      ],
      "execution_count": 0,
      "outputs": []
    },
    {
      "cell_type": "code",
      "metadata": {
        "id": "4xWoKhPY9Of5",
        "colab_type": "code",
        "outputId": "28833c1a-26ae-4798-8250-230816498545",
        "colab": {
          "base_uri": "https://localhost:8080/",
          "height": 764
        }
      },
      "source": [
        "model.fit(X_train, Y_train, batch_size=64, epochs=20, verbose=1,validation_data=(X_test, Y_test))  # Learn Learn Learn"
      ],
      "execution_count": 34,
      "outputs": [
        {
          "output_type": "stream",
          "text": [
            "Train on 60000 samples, validate on 10000 samples\n",
            "Epoch 1/20\n",
            "60000/60000 [==============================] - 27s 449us/step - loss: 0.2953 - acc: 0.9073 - val_loss: 0.0597 - val_acc: 0.9813\n",
            "Epoch 2/20\n",
            "60000/60000 [==============================] - 23s 380us/step - loss: 0.0821 - acc: 0.9748 - val_loss: 0.0517 - val_acc: 0.9837\n",
            "Epoch 3/20\n",
            "60000/60000 [==============================] - 23s 380us/step - loss: 0.0631 - acc: 0.9801 - val_loss: 0.0374 - val_acc: 0.9890\n",
            "Epoch 4/20\n",
            "60000/60000 [==============================] - 23s 381us/step - loss: 0.0534 - acc: 0.9832 - val_loss: 0.0425 - val_acc: 0.9864\n",
            "Epoch 5/20\n",
            "60000/60000 [==============================] - 23s 381us/step - loss: 0.0485 - acc: 0.9850 - val_loss: 0.0334 - val_acc: 0.9895\n",
            "Epoch 6/20\n",
            "60000/60000 [==============================] - 23s 383us/step - loss: 0.0430 - acc: 0.9862 - val_loss: 0.0294 - val_acc: 0.9908\n",
            "Epoch 7/20\n",
            "60000/60000 [==============================] - 23s 382us/step - loss: 0.0394 - acc: 0.9872 - val_loss: 0.0289 - val_acc: 0.9902\n",
            "Epoch 8/20\n",
            "60000/60000 [==============================] - 24s 399us/step - loss: 0.0386 - acc: 0.9877 - val_loss: 0.0363 - val_acc: 0.9882\n",
            "Epoch 9/20\n",
            "60000/60000 [==============================] - 24s 404us/step - loss: 0.0356 - acc: 0.9888 - val_loss: 0.0230 - val_acc: 0.9926\n",
            "Epoch 10/20\n",
            "60000/60000 [==============================] - 24s 398us/step - loss: 0.0354 - acc: 0.9888 - val_loss: 0.0263 - val_acc: 0.9925\n",
            "Epoch 11/20\n",
            "60000/60000 [==============================] - 24s 397us/step - loss: 0.0321 - acc: 0.9901 - val_loss: 0.0275 - val_acc: 0.9914\n",
            "Epoch 12/20\n",
            "60000/60000 [==============================] - 24s 400us/step - loss: 0.0314 - acc: 0.9899 - val_loss: 0.0236 - val_acc: 0.9936\n",
            "Epoch 13/20\n",
            "60000/60000 [==============================] - 24s 399us/step - loss: 0.0299 - acc: 0.9905 - val_loss: 0.0263 - val_acc: 0.9917\n",
            "Epoch 14/20\n",
            "60000/60000 [==============================] - 24s 402us/step - loss: 0.0287 - acc: 0.9909 - val_loss: 0.0208 - val_acc: 0.9933\n",
            "Epoch 15/20\n",
            "60000/60000 [==============================] - 24s 399us/step - loss: 0.0281 - acc: 0.9910 - val_loss: 0.0316 - val_acc: 0.9904\n",
            "Epoch 16/20\n",
            "60000/60000 [==============================] - 24s 401us/step - loss: 0.0257 - acc: 0.9919 - val_loss: 0.0206 - val_acc: 0.9939\n",
            "Epoch 17/20\n",
            "60000/60000 [==============================] - 24s 401us/step - loss: 0.0265 - acc: 0.9914 - val_loss: 0.0227 - val_acc: 0.9934\n",
            "Epoch 18/20\n",
            "60000/60000 [==============================] - 24s 399us/step - loss: 0.0253 - acc: 0.9921 - val_loss: 0.0251 - val_acc: 0.9914\n",
            "Epoch 19/20\n",
            "60000/60000 [==============================] - 24s 403us/step - loss: 0.0261 - acc: 0.9917 - val_loss: 0.0271 - val_acc: 0.9914\n",
            "Epoch 20/20\n",
            "60000/60000 [==============================] - 24s 395us/step - loss: 0.0234 - acc: 0.9923 - val_loss: 0.0196 - val_acc: 0.9943\n"
          ],
          "name": "stdout"
        },
        {
          "output_type": "execute_result",
          "data": {
            "text/plain": [
              "<keras.callbacks.History at 0x7fa789b8b828>"
            ]
          },
          "metadata": {
            "tags": []
          },
          "execution_count": 34
        }
      ]
    },
    {
      "cell_type": "code",
      "metadata": {
        "id": "AtsH-lLk-eLb",
        "colab_type": "code",
        "colab": {}
      },
      "source": [
        "score = model.evaluate(X_test, Y_test, verbose=0)                               # Evaluate the Model over test data"
      ],
      "execution_count": 0,
      "outputs": []
    },
    {
      "cell_type": "code",
      "metadata": {
        "id": "mkX8JMv79q9r",
        "colab_type": "code",
        "colab": {
          "base_uri": "https://localhost:8080/",
          "height": 35
        },
        "outputId": "52ec6b08-aee7-4ed1-9dfc-9709b11b76c7"
      },
      "source": [
        "print(score)                                                                    # Accuracy over test data."
      ],
      "execution_count": 36,
      "outputs": [
        {
          "output_type": "stream",
          "text": [
            "[0.01955958252746568, 0.9943]\n"
          ],
          "name": "stdout"
        }
      ]
    },
    {
      "cell_type": "code",
      "metadata": {
        "id": "OCWoJkwE9suh",
        "colab_type": "code",
        "colab": {}
      },
      "source": [
        "y_pred = model.predict(X_test)                                                  # predicting the values with validation accuracy"
      ],
      "execution_count": 0,
      "outputs": []
    },
    {
      "cell_type": "code",
      "metadata": {
        "id": "Ym7iCFBm9uBs",
        "colab_type": "code",
        "colab": {
          "base_uri": "https://localhost:8080/",
          "height": 515
        },
        "outputId": "a863cbcd-0b44-487b-84a2-21c504297a3b"
      },
      "source": [
        "print(y_pred[:9])                                                               \n",
        "print(y_test[:9])"
      ],
      "execution_count": 38,
      "outputs": [
        {
          "output_type": "stream",
          "text": [
            "[[1.46832008e-11 5.34980227e-10 7.96788768e-09 5.86056004e-08\n",
            "  3.10973664e-12 7.33973472e-12 2.62240181e-14 9.99999762e-01\n",
            "  1.33411598e-11 8.74936461e-08]\n",
            " [1.84909152e-06 2.44985631e-06 9.99937177e-01 2.17802457e-10\n",
            "  3.03547267e-07 1.43016904e-10 5.81735985e-05 2.71102446e-10\n",
            "  5.27249400e-09 1.17408860e-11]\n",
            " [2.97755931e-10 9.99998927e-01 2.98504013e-08 2.10938732e-12\n",
            "  2.09478429e-07 2.20860752e-09 6.00696248e-09 8.75966350e-07\n",
            "  6.31117797e-11 1.48517865e-08]\n",
            " [9.99997377e-01 8.59602459e-11 6.77062104e-08 7.99101341e-10\n",
            "  2.54237023e-08 7.68167308e-10 2.01889998e-06 3.71797940e-11\n",
            "  4.11342739e-07 1.13407111e-07]\n",
            " [1.92496778e-12 2.44142462e-09 2.94117480e-10 2.56315643e-14\n",
            "  9.99996781e-01 6.91845756e-12 3.65734332e-10 1.46472845e-09\n",
            "  1.36161457e-10 3.19609126e-06]\n",
            " [1.33113964e-10 9.99997377e-01 1.07776927e-07 4.92574297e-13\n",
            "  1.11296174e-07 2.17614163e-10 1.72530334e-09 2.43298791e-06\n",
            "  6.01005287e-11 1.84057107e-08]\n",
            " [8.10318948e-14 2.01155090e-05 1.09283800e-08 2.35615542e-12\n",
            "  9.99964476e-01 1.58607683e-09 3.11087600e-10 9.19730701e-06\n",
            "  3.18461645e-07 5.90938771e-06]\n",
            " [5.74737946e-09 3.95217192e-08 8.41655368e-09 3.15768915e-07\n",
            "  3.29843861e-05 5.57781846e-07 6.53739424e-11 5.41357681e-10\n",
            "  2.46603463e-06 9.99963641e-01]\n",
            " [7.71492314e-10 5.96199132e-11 6.85780304e-14 9.60981381e-12\n",
            "  7.83316554e-12 9.99956369e-01 4.25494400e-05 6.90042641e-12\n",
            "  1.03375157e-06 2.77057346e-08]]\n",
            "[7 2 1 0 4 1 4 9 5]\n"
          ],
          "name": "stdout"
        }
      ]
    },
    {
      "cell_type": "code",
      "metadata": {
        "id": "CT--y98_dr2T",
        "colab_type": "code",
        "colab": {}
      },
      "source": [
        "layer_dict = dict([(layer.name, layer) for layer in model.layers])"
      ],
      "execution_count": 0,
      "outputs": []
    },
    {
      "cell_type": "code",
      "metadata": {
        "id": "2GY4Upv4dsUR",
        "colab_type": "code",
        "colab": {
          "base_uri": "https://localhost:8080/",
          "height": 741
        },
        "outputId": "fb31bb06-46b6-43d6-89ab-604021fbd5a5"
      },
      "source": [
        "import numpy as np\n",
        "from matplotlib import pyplot as plt\n",
        "from keras import backend as K\n",
        "%matplotlib inline\n",
        "# util function to convert a tensor into a valid image\n",
        "def deprocess_image(x):\n",
        "    # normalize tensor: center on 0., ensure std is 0.1\n",
        "    x -= x.mean()\n",
        "    x /= (x.std() + 1e-5)\n",
        "    x *= 0.1\n",
        "\n",
        "    # clip to [0, 1]\n",
        "    x += 0.5\n",
        "    x = np.clip(x, 0, 1)\n",
        "\n",
        "    # convert to RGB array\n",
        "    x *= 255\n",
        "    #x = x.transpose((1, 2, 0))\n",
        "    x = np.clip(x, 0, 255).astype('uint8')\n",
        "    return x\n",
        "\n",
        "def vis_img_in_filter(img = np.array(X_train[2]).reshape((1, 28, 28, 1)).astype(np.float64), \n",
        "                      layer_name = 'conv2d_14'):\n",
        "    layer_output = layer_dict[layer_name].output\n",
        "    img_ascs = list()\n",
        "    for filter_index in range(layer_output.shape[3]):\n",
        "        # build a loss function that maximizes the activation\n",
        "        # of the nth filter of the layer considered\n",
        "        loss = K.mean(layer_output[:, :, :, filter_index])\n",
        "\n",
        "        # compute the gradient of the input picture wrt this loss\n",
        "        grads = K.gradients(loss, model.input)[0]\n",
        "\n",
        "        # normalization trick: we normalize the gradient\n",
        "        grads /= (K.sqrt(K.mean(K.square(grads))) + 1e-5)\n",
        "\n",
        "        # this function returns the loss and grads given the input picture\n",
        "        iterate = K.function([model.input], [loss, grads])\n",
        "\n",
        "        # step size for gradient ascent\n",
        "        step = 5.\n",
        "\n",
        "        img_asc = np.array(img)\n",
        "        # run gradient ascent for 20 steps\n",
        "        for i in range(20):\n",
        "            loss_value, grads_value = iterate([img_asc])\n",
        "            img_asc += grads_value * step\n",
        "\n",
        "        img_asc = img_asc[0]\n",
        "        img_ascs.append(deprocess_image(img_asc).reshape((28, 28)))\n",
        "        \n",
        "    if layer_output.shape[3] >= 35:\n",
        "        plot_x, plot_y = 6, 6\n",
        "    elif layer_output.shape[3] >= 23:\n",
        "        plot_x, plot_y = 4, 6\n",
        "    elif layer_output.shape[3] >= 11:\n",
        "        plot_x, plot_y = 2, 6\n",
        "    else:\n",
        "        plot_x, plot_y = 1, 2\n",
        "    fig, ax = plt.subplots(plot_x, plot_y, figsize = (12, 12))\n",
        "    ax[0, 0].imshow(img.reshape((28, 28)), cmap = 'gray')\n",
        "    ax[0, 0].set_title('Input image')\n",
        "    fig.suptitle('Input image and %s filters' % (layer_name,))\n",
        "    fig.tight_layout(pad = 0.3, rect = [0, 0, 0.9, 0.9])\n",
        "    for (x, y) in [(i, j) for i in range(plot_x) for j in range(plot_y)]:\n",
        "        if x == 0 and y == 0:\n",
        "            continue\n",
        "        ax[x, y].imshow(img_ascs[x * plot_y + y - 1], cmap = 'gray')\n",
        "        ax[x, y].set_title('filter %d' % (x * plot_y + y - 1))\n",
        "\n",
        "vis_img_in_filter()"
      ],
      "execution_count": 40,
      "outputs": [
        {
          "output_type": "display_data",
          "data": {
            "image/png": "[encoded data removed]",
            "text/plain": [
              "<Figure size 864x864 with 12 Axes>"
            ]
          },
          "metadata": {
            "tags": []
          }
        }
      ]
    },
    {
      "cell_type": "code",
      "metadata": {
        "id": "9tvptcn8dxvp",
        "colab_type": "code",
        "colab": {}
      },
      "source": [
        ""
      ],
      "execution_count": 0,
      "outputs": []
    }
  ]
}