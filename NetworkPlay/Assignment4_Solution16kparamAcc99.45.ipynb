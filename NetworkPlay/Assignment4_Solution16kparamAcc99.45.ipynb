{
  "nbformat": 4,
  "nbformat_minor": 0,
  "metadata": {
    "colab": {
      "name": "Assignment4.ipynb",
      "provenance": [],
      "collapsed_sections": [],
      "include_colab_link": true
    },
    "kernelspec": {
      "name": "python3",
      "display_name": "Python 3"
    },
    "accelerator": "GPU"
  },
  "cells": [
    {
      "cell_type": "markdown",
      "metadata": {
        "id": "view-in-github",
        "colab_type": "text"
      },
      "source": [
        "<a href=\"https://colab.research.google.com/github/Abhinavl3v3l/EVA3/blob/master/Assignment4_Solution16kparamAcc99.45.ipynb\" target=\"_parent\"><img src=\"https://colab.research.google.com/assets/colab-badge.svg\" alt=\"Open In Colab\"/></a>"
      ]
    },
    {
      "cell_type": "markdown",
      "metadata": {
        "id": "aNyZv-Ec52ot",
        "colab_type": "text"
      },
      "source": [
        "# **Import Libraries and modules**"
      ]
    },
    {
      "cell_type": "code",
      "metadata": {
        "id": "3m3w1Cw49Zkt",
        "colab_type": "code",
        "colab": {}
      },
      "source": [
        "# https://keras.io/\n",
        "!pip install -q keras\n",
        "import keras"
      ],
      "execution_count": 0,
      "outputs": []
    },
    {
      "cell_type": "code",
      "metadata": {
        "id": "Eso6UHE080D4",
        "colab_type": "code",
        "colab": {}
      },
      "source": [
        "import numpy as np\n",
        "\n",
        "from keras.models import Sequential\n",
        "from keras.layers import Dense, Dropout, Activation, Flatten, Add, BatchNormalization\n",
        "from keras.layers import Convolution2D, MaxPooling2D\n",
        "from keras.utils import np_utils\n",
        "\n",
        "from keras.datasets import mnist                                                # Importing Necessary Libraries and dataset(in keras)"
      ],
      "execution_count": 0,
      "outputs": []
    },
    {
      "cell_type": "markdown",
      "metadata": {
        "id": "zByEi95J86RD",
        "colab_type": "text"
      },
      "source": [
        "### Load pre-shuffled MNIST data into train and test sets"
      ]
    },
    {
      "cell_type": "code",
      "metadata": {
        "id": "7eRM0QWN83PV",
        "colab_type": "code",
        "colab": {}
      },
      "source": [
        "(X_train, y_train), (X_test, y_test) = mnist.load_data()                        # mnist data divided into Training and Test Data\n",
        "                                                                                # Where X_train are 60K 28x28 gray scale training images of numbers from [0-9] \n",
        "                                                                                # y_train are label of numbers from [0-9]"
      ],
      "execution_count": 0,
      "outputs": []
    },
    {
      "cell_type": "markdown",
      "metadata": {
        "id": "mJQpLXHL20uf",
        "colab_type": "text"
      },
      "source": [
        ""
      ]
    },
    {
      "cell_type": "code",
      "metadata": {
        "id": "4a4Be72j8-ZC",
        "colab_type": "code",
        "outputId": "abbbd4f5-5c80-470a-d690-47b273a2e070",
        "colab": {
          "base_uri": "https://localhost:8080/",
          "height": 305
        }
      },
      "source": [
        "print (X_train.shape)\n",
        "from matplotlib import pyplot as plt\n",
        "%matplotlib inline\n",
        "plt.imshow(X_train[0])                                                           # Displaying what one of the images look like."
      ],
      "execution_count": 68,
      "outputs": [
        {
          "output_type": "stream",
          "text": [
            "(60000, 28, 28)\n"
          ],
          "name": "stdout"
        },
        {
          "output_type": "execute_result",
          "data": {
            "text/plain": [
              "<matplotlib.image.AxesImage at 0x7fa785eed780>"
            ]
          },
          "metadata": {
            "tags": []
          },
          "execution_count": 68
        },
        {
          "output_type": "display_data",
          "data": {
            "image/png": "[encoded data removed]",
            "text/plain": [
              "<Figure size 432x288 with 1 Axes>"
            ]
          },
          "metadata": {
            "tags": []
          }
        }
      ]
    },
    {
      "cell_type": "code",
      "metadata": {
        "id": "dkmprriw9AnZ",
        "colab_type": "code",
        "colab": {}
      },
      "source": [
        "X_train = X_train.reshape(X_train.shape[0], 28, 28,1)                           # (60000, 28, 28) ->  (60000, 28, 28, 1)\n",
        "X_test = X_test.reshape(X_test.shape[0], 28, 28,1)"
      ],
      "execution_count": 0,
      "outputs": []
    },
    {
      "cell_type": "code",
      "metadata": {
        "id": "X2m4YS4E9CRh",
        "colab_type": "code",
        "colab": {}
      },
      "source": [
        "X_train = X_train.astype('float32')                                             # Convert to float type\n",
        "X_test = X_test.astype('float32') \n",
        "X_train /= 255\n",
        "X_test /= 255                                                                   # Floating Value ranges from [0,1]"
      ],
      "execution_count": 0,
      "outputs": []
    },
    {
      "cell_type": "code",
      "metadata": {
        "id": "0Mn0vAYD9DvB",
        "colab_type": "code",
        "outputId": "ecee4c40-2d0b-484d-aff6-a104375a5ad3",
        "colab": {
          "base_uri": "https://localhost:8080/",
          "height": 35
        }
      },
      "source": [
        "y_train[:10]"
      ],
      "execution_count": 71,
      "outputs": [
        {
          "output_type": "execute_result",
          "data": {
            "text/plain": [
              "array([5, 0, 4, 1, 9, 2, 1, 3, 1, 4], dtype=uint8)"
            ]
          },
          "metadata": {
            "tags": []
          },
          "execution_count": 71
        }
      ]
    },
    {
      "cell_type": "code",
      "metadata": {
        "id": "ZG8JiXR39FHC",
        "colab_type": "code",
        "colab": {}
      },
      "source": [
        "# Convert 1-dimensional class arrays to 10-dimensional class matrices\n",
        "Y_train = np_utils.to_categorical(y_train, 10)                                  \n",
        "Y_test = np_utils.to_categorical(y_test, 10)"
      ],
      "execution_count": 0,
      "outputs": []
    },
    {
      "cell_type": "code",
      "metadata": {
        "id": "fYlFRvKS9HMB",
        "colab_type": "code",
        "outputId": "d197ef31-a2cb-4831-fcb0-eedfadaaee4c",
        "colab": {
          "base_uri": "https://localhost:8080/",
          "height": 195
        }
      },
      "source": [
        "Y_train[:10]                                                                    ## y_train to Y_train  - example,5 value is converted to an array where 5th element of array is 1(lit) and rest all is 0 \n",
        "                                                                                \n",
        "                                                                                # OR \n",
        "                                                                                \n",
        "                                                                                # 1 Hot Encoded  \n"
      ],
      "execution_count": 73,
      "outputs": [
        {
          "output_type": "execute_result",
          "data": {
            "text/plain": [
              "array([[0., 0., 0., 0., 0., 1., 0., 0., 0., 0.],\n",
              "       [1., 0., 0., 0., 0., 0., 0., 0., 0., 0.],\n",
              "       [0., 0., 0., 0., 1., 0., 0., 0., 0., 0.],\n",
              "       [0., 1., 0., 0., 0., 0., 0., 0., 0., 0.],\n",
              "       [0., 0., 0., 0., 0., 0., 0., 0., 0., 1.],\n",
              "       [0., 0., 1., 0., 0., 0., 0., 0., 0., 0.],\n",
              "       [0., 1., 0., 0., 0., 0., 0., 0., 0., 0.],\n",
              "       [0., 0., 0., 1., 0., 0., 0., 0., 0., 0.],\n",
              "       [0., 1., 0., 0., 0., 0., 0., 0., 0., 0.],\n",
              "       [0., 0., 0., 0., 1., 0., 0., 0., 0., 0.]], dtype=float32)"
            ]
          },
          "metadata": {
            "tags": []
          },
          "execution_count": 73
        }
      ]
    },
    {
      "cell_type": "markdown",
      "metadata": {
        "id": "lCY5SFWYBoew",
        "colab_type": "text"
      },
      "source": [
        "### This assignment's code is divided into 4 parts. \n",
        "\n",
        "1.    Architecture( remains constant).\n",
        "2.    Kernel Optimization to fit under 15K constraint.\n",
        "3.    Go Crazy (Batch Normalization, Drop Out, Learning Rate, Batch Size).\n",
        "4.    Accuracy above 99.4% (if possible less than 15 epochs)\n",
        "\n",
        "#### Guidelines\n",
        "1.    Make sure you are tracking your code's performance, and writing down your observations as you achieve better or worse results\n",
        "2.    Your second code can only have max 2 improvements over first one, third can have only max 2 over second and so on. \n",
        "3.    All of your iterations are in different CODE BLOCKS and named properly like First CODE, Second CODE, etc\n",
        "4.    All of your iterations have a Header note, describing what all you are planning to do in this code\n",
        "5.    All of your code is very well documented\n",
        "6.    There is a readme file (or embedded documentation) describing your codes and steps you've taken\n",
        "\n",
        "\n"
      ]
    },
    {
      "cell_type": "markdown",
      "metadata": {
        "id": "vrLcv7xIDfs9",
        "colab_type": "text"
      },
      "source": [
        "# CODE 1 - Architecture"
      ]
    },
    {
      "cell_type": "code",
      "metadata": {
        "id": "osKqT73Q9JJB",
        "colab_type": "code",
        "colab": {}
      },
      "source": [
        "# # Building the layers for maximum accuracy\n",
        "# from keras.layers import Activation\n",
        "# model = Sequential()\n",
        "\n",
        "\n",
        "# model.add(Convolution2D(16, (3, 3), activation='relu', input_shape=(28,28,1)))  # Input Image size 28x28x1, 3x3 convolution with 32 channels,     GRF = 3, Parameters = 3x3x32x1  + 32        = 320           Output Image = 26x26x32\n",
        "# model.add(Convolution2D(20, (3, 3), activation='relu'))  #24\n",
        "# model.add(Convolution2D(24, (3, 3), activation='relu'))  #22\n",
        "# model.add(Convolution2D(8, 1, activation='relu'))                              \n",
        "\n",
        "# model.add(MaxPooling2D(pool_size=(2, 2))) #11\n",
        "\n",
        "# model.add(Convolution2D(16, (3, 3), activation='relu'))  #9\n",
        "# model.add(Convolution2D(20, (3, 3), activation='relu'))  #7\n",
        "# model.add(Convolution2D(24, (3, 3), activation='relu'))  #5\n",
        "\n",
        "# model.add(Convolution2D(25, 1, activation='relu')) \n",
        "# model.add(Convolution2D(10, 5))\n",
        "\n",
        "# model.add(Flatten())\n",
        "# model.add(Activation('softmax'))"
      ],
      "execution_count": 0,
      "outputs": []
    },
    {
      "cell_type": "markdown",
      "metadata": {
        "id": "TE3cljo8IgBW",
        "colab_type": "text"
      },
      "source": [
        "Change value of firs 1x1 and see the changes "
      ]
    },
    {
      "cell_type": "code",
      "metadata": {
        "id": "7kFKpT7_YkY9",
        "colab_type": "code",
        "colab": {}
      },
      "source": [
        "from keras.layers import Activation\n",
        "model = Sequential()\n",
        "\n",
        "\n",
        "model.add(Convolution2D(12, (3, 3), activation='relu', input_shape=(28,28,1)))#26  \n",
        "model.add(BatchNormalization())\n",
        "model.add(Dropout(0.1))\n",
        "\n",
        "model.add(Convolution2D(16, (3, 3), activation='relu'))  #24\n",
        "model.add(BatchNormalization())\n",
        "model.add(Dropout(0.1))\n",
        "\n",
        "\n",
        "model.add(Convolution2D(20, (3, 3), activation='relu'))  #22\n",
        "model.add(BatchNormalization())\n",
        "model.add(Dropout(0.1))\n",
        "\n",
        "model.add(Convolution2D(10, 1, activation='relu'))\n",
        "\n",
        "\n",
        "model.add(MaxPooling2D(pool_size=(2, 2))) #11\n",
        "\n",
        "model.add(Convolution2D(16, (3, 3), activation='relu'))  #9\n",
        "model.add(BatchNormalization())\n",
        "model.add(Dropout(0.1))\n",
        "\n",
        "\n",
        "model.add(Convolution2D(20, (3, 3), activation='relu'))  #7\n",
        "model.add(BatchNormalization())\n",
        "model.add(Dropout(0.1))\n",
        "\n",
        "model.add(Convolution2D(10, 1, activation='relu'))\n",
        "model.add(BatchNormalization())\n",
        "model.add(Dropout(0.1))\n",
        "\n",
        "model.add(Convolution2D(18, (3, 3), activation='relu'))  #5\n",
        "model.add(BatchNormalization())\n",
        "model.add(Dropout(0.1))\n",
        "\n",
        "model.add(Convolution2D(10, 5))\n",
        "model.add(Flatten())\n",
        "model.add(Activation('softmax'))"
      ],
      "execution_count": 0,
      "outputs": []
    },
    {
      "cell_type": "code",
      "metadata": {
        "id": "TzdAYg1k9K7Z",
        "colab_type": "code",
        "outputId": "bdc6242d-f3d5-4066-8f1c-adb873266011",
        "colab": {
          "base_uri": "https://localhost:8080/",
          "height": 1000
        }
      },
      "source": [
        "model.summary()"
      ],
      "execution_count": 76,
      "outputs": [
        {
          "output_type": "stream",
          "text": [
            "Model: \"sequential_13\"\n",
            "_________________________________________________________________\n",
            "Layer (type)                 Output Shape              Param #   \n",
            "=================================================================\n",
            "conv2d_115 (Conv2D)          (None, 26, 26, 12)        120       \n",
            "_________________________________________________________________\n",
            "batch_normalization_85 (Batc (None, 26, 26, 12)        48        \n",
            "_________________________________________________________________\n",
            "dropout_85 (Dropout)         (None, 26, 26, 12)        0         \n",
            "_________________________________________________________________\n",
            "conv2d_116 (Conv2D)          (None, 24, 24, 16)        1744      \n",
            "_________________________________________________________________\n",
            "batch_normalization_86 (Batc (None, 24, 24, 16)        64        \n",
            "_________________________________________________________________\n",
            "dropout_86 (Dropout)         (None, 24, 24, 16)        0         \n",
            "_________________________________________________________________\n",
            "conv2d_117 (Conv2D)          (None, 22, 22, 20)        2900      \n",
            "_________________________________________________________________\n",
            "batch_normalization_87 (Batc (None, 22, 22, 20)        80        \n",
            "_________________________________________________________________\n",
            "dropout_87 (Dropout)         (None, 22, 22, 20)        0         \n",
            "_________________________________________________________________\n",
            "conv2d_118 (Conv2D)          (None, 22, 22, 10)        210       \n",
            "_________________________________________________________________\n",
            "max_pooling2d_13 (MaxPooling (None, 11, 11, 10)        0         \n",
            "_________________________________________________________________\n",
            "conv2d_119 (Conv2D)          (None, 9, 9, 16)          1456      \n",
            "_________________________________________________________________\n",
            "batch_normalization_88 (Batc (None, 9, 9, 16)          64        \n",
            "_________________________________________________________________\n",
            "dropout_88 (Dropout)         (None, 9, 9, 16)          0         \n",
            "_________________________________________________________________\n",
            "conv2d_120 (Conv2D)          (None, 7, 7, 20)          2900      \n",
            "_________________________________________________________________\n",
            "batch_normalization_89 (Batc (None, 7, 7, 20)          80        \n",
            "_________________________________________________________________\n",
            "dropout_89 (Dropout)         (None, 7, 7, 20)          0         \n",
            "_________________________________________________________________\n",
            "conv2d_121 (Conv2D)          (None, 7, 7, 10)          210       \n",
            "_________________________________________________________________\n",
            "batch_normalization_90 (Batc (None, 7, 7, 10)          40        \n",
            "_________________________________________________________________\n",
            "dropout_90 (Dropout)         (None, 7, 7, 10)          0         \n",
            "_________________________________________________________________\n",
            "conv2d_122 (Conv2D)          (None, 5, 5, 18)          1638      \n",
            "_________________________________________________________________\n",
            "batch_normalization_91 (Batc (None, 5, 5, 18)          72        \n",
            "_________________________________________________________________\n",
            "dropout_91 (Dropout)         (None, 5, 5, 18)          0         \n",
            "_________________________________________________________________\n",
            "conv2d_123 (Conv2D)          (None, 1, 1, 10)          4510      \n",
            "_________________________________________________________________\n",
            "flatten_13 (Flatten)         (None, 10)                0         \n",
            "_________________________________________________________________\n",
            "activation_13 (Activation)   (None, 10)                0         \n",
            "=================================================================\n",
            "Total params: 16,136\n",
            "Trainable params: 15,912\n",
            "Non-trainable params: 224\n",
            "_________________________________________________________________\n"
          ],
          "name": "stdout"
        }
      ]
    },
    {
      "cell_type": "code",
      "metadata": {
        "id": "Zp6SuGrL9M3h",
        "colab_type": "code",
        "colab": {}
      },
      "source": [
        "model.compile(loss='categorical_crossentropy',                              \n",
        "             optimizer='adam',\n",
        "             metrics=['accuracy'])                                              # Compiler or function which calculate and adjust the loss using a loss function and measure in accuracy. A function which will optimize all the features generated. \n",
        "                                                                                # Optimizer.\n",
        "\n",
        "\n",
        "from keras.optimizers import Adam\n",
        "from keras.callbacks import LearningRateScheduler\n",
        "def scheduler(epoch, lr):\n",
        "  return round(0.003 * 1/(1 + 0.319 * epoch), 10)"
      ],
      "execution_count": 0,
      "outputs": []
    },
    {
      "cell_type": "code",
      "metadata": {
        "id": "4xWoKhPY9Of5",
        "colab_type": "code",
        "outputId": "2ae723f7-d645-4c72-d7db-5cc2a101d0d1",
        "colab": {
          "base_uri": "https://localhost:8080/",
          "height": 764
        }
      },
      "source": [
        "model.fit(X_train, Y_train, batch_size=64, epochs=20, verbose=1,validation_data=(X_test, Y_test))  # Learn Learn Learn"
      ],
      "execution_count": 78,
      "outputs": [
        {
          "output_type": "stream",
          "text": [
            "Train on 60000 samples, validate on 10000 samples\n",
            "Epoch 1/20\n",
            "60000/60000 [==============================] - 34s 570us/step - loss: 0.2960 - acc: 0.9062 - val_loss: 0.0837 - val_acc: 0.9731\n",
            "Epoch 2/20\n",
            "60000/60000 [==============================] - 27s 448us/step - loss: 0.0773 - acc: 0.9751 - val_loss: 0.0390 - val_acc: 0.9875\n",
            "Epoch 3/20\n",
            "60000/60000 [==============================] - 27s 450us/step - loss: 0.0600 - acc: 0.9821 - val_loss: 0.0361 - val_acc: 0.9876\n",
            "Epoch 4/20\n",
            "60000/60000 [==============================] - 27s 447us/step - loss: 0.0485 - acc: 0.9846 - val_loss: 0.0344 - val_acc: 0.9882\n",
            "Epoch 5/20\n",
            "60000/60000 [==============================] - 27s 446us/step - loss: 0.0448 - acc: 0.9866 - val_loss: 0.0459 - val_acc: 0.9858\n",
            "Epoch 6/20\n",
            "60000/60000 [==============================] - 27s 448us/step - loss: 0.0410 - acc: 0.9869 - val_loss: 0.0443 - val_acc: 0.9860\n",
            "Epoch 7/20\n",
            "60000/60000 [==============================] - 27s 445us/step - loss: 0.0376 - acc: 0.9879 - val_loss: 0.0306 - val_acc: 0.9906\n",
            "Epoch 8/20\n",
            "60000/60000 [==============================] - 27s 447us/step - loss: 0.0353 - acc: 0.9885 - val_loss: 0.0289 - val_acc: 0.9899\n",
            "Epoch 9/20\n",
            "60000/60000 [==============================] - 27s 446us/step - loss: 0.0323 - acc: 0.9897 - val_loss: 0.0274 - val_acc: 0.9913\n",
            "Epoch 10/20\n",
            "60000/60000 [==============================] - 27s 447us/step - loss: 0.0334 - acc: 0.9893 - val_loss: 0.0265 - val_acc: 0.9917\n",
            "Epoch 11/20\n",
            "60000/60000 [==============================] - 27s 446us/step - loss: 0.0296 - acc: 0.9904 - val_loss: 0.0292 - val_acc: 0.9908\n",
            "Epoch 12/20\n",
            "60000/60000 [==============================] - 27s 452us/step - loss: 0.0280 - acc: 0.9909 - val_loss: 0.0249 - val_acc: 0.9922\n",
            "Epoch 13/20\n",
            "60000/60000 [==============================] - 27s 450us/step - loss: 0.0272 - acc: 0.9910 - val_loss: 0.0237 - val_acc: 0.9923\n",
            "Epoch 14/20\n",
            "60000/60000 [==============================] - 27s 448us/step - loss: 0.0279 - acc: 0.9906 - val_loss: 0.0253 - val_acc: 0.9924\n",
            "Epoch 15/20\n",
            "60000/60000 [==============================] - 27s 448us/step - loss: 0.0248 - acc: 0.9925 - val_loss: 0.0240 - val_acc: 0.9924\n",
            "Epoch 16/20\n",
            "60000/60000 [==============================] - 27s 447us/step - loss: 0.0249 - acc: 0.9916 - val_loss: 0.0256 - val_acc: 0.9925\n",
            "Epoch 17/20\n",
            "60000/60000 [==============================] - 27s 448us/step - loss: 0.0238 - acc: 0.9923 - val_loss: 0.0230 - val_acc: 0.9933\n",
            "Epoch 18/20\n",
            "60000/60000 [==============================] - 27s 448us/step - loss: 0.0241 - acc: 0.9920 - val_loss: 0.0234 - val_acc: 0.9927\n",
            "Epoch 19/20\n",
            "60000/60000 [==============================] - 27s 448us/step - loss: 0.0225 - acc: 0.9925 - val_loss: 0.0185 - val_acc: 0.9945\n",
            "Epoch 20/20\n",
            "60000/60000 [==============================] - 27s 444us/step - loss: 0.0225 - acc: 0.9924 - val_loss: 0.0233 - val_acc: 0.9931\n"
          ],
          "name": "stdout"
        },
        {
          "output_type": "execute_result",
          "data": {
            "text/plain": [
              "<keras.callbacks.History at 0x7fa7858ee908>"
            ]
          },
          "metadata": {
            "tags": []
          },
          "execution_count": 78
        }
      ]
    },
    {
      "cell_type": "code",
      "metadata": {
        "id": "AtsH-lLk-eLb",
        "colab_type": "code",
        "colab": {}
      },
      "source": [
        "score = model.evaluate(X_test, Y_test, verbose=0)                               # Evaluate the Model over test data"
      ],
      "execution_count": 0,
      "outputs": []
    },
    {
      "cell_type": "code",
      "metadata": {
        "id": "mkX8JMv79q9r",
        "colab_type": "code",
        "colab": {
          "base_uri": "https://localhost:8080/",
          "height": 35
        },
        "outputId": "cdf11df9-cf36-4d8a-c97d-b42d8d07fb8c"
      },
      "source": [
        "print(score)                                                                    # Accuracy over test data."
      ],
      "execution_count": 80,
      "outputs": [
        {
          "output_type": "stream",
          "text": [
            "[0.023300932369764632, 0.9931]\n"
          ],
          "name": "stdout"
        }
      ]
    },
    {
      "cell_type": "code",
      "metadata": {
        "id": "OCWoJkwE9suh",
        "colab_type": "code",
        "colab": {}
      },
      "source": [
        "y_pred = model.predict(X_test)                                                  # predicting the values with validation accuracy"
      ],
      "execution_count": 0,
      "outputs": []
    },
    {
      "cell_type": "code",
      "metadata": {
        "id": "Ym7iCFBm9uBs",
        "colab_type": "code",
        "colab": {
          "base_uri": "https://localhost:8080/",
          "height": 515
        },
        "outputId": "9cb4d8c1-aee6-4d10-fe55-a66fcfbdf74d"
      },
      "source": [
        "print(y_pred[:9])                                                               \n",
        "print(y_test[:9])"
      ],
      "execution_count": 82,
      "outputs": [
        {
          "output_type": "stream",
          "text": [
            "[[7.35659309e-13 1.38877382e-10 3.32031469e-08 8.42564185e-10\n",
            "  4.33695994e-13 8.42815661e-12 3.38972082e-14 1.00000000e+00\n",
            "  5.57410455e-12 1.37817067e-11]\n",
            " [5.60956760e-05 2.18691275e-06 9.99924064e-01 2.71020575e-08\n",
            "  4.96899499e-09 4.24418584e-10 1.74971483e-05 5.16248719e-12\n",
            "  6.02500023e-08 1.54048081e-08]\n",
            " [1.74104503e-06 9.99982238e-01 7.63645360e-08 7.15178139e-10\n",
            "  1.31680226e-05 5.02651147e-08 7.99779627e-07 1.71241386e-08\n",
            "  1.56088288e-06 2.41845925e-07]\n",
            " [9.99993205e-01 1.31200918e-11 5.94824590e-09 1.00871622e-09\n",
            "  2.51642596e-10 7.16024786e-08 5.95782103e-06 1.12984594e-10\n",
            "  3.83415468e-08 6.34015919e-07]\n",
            " [1.27891155e-12 8.74808281e-11 1.31684733e-10 9.79762278e-13\n",
            "  9.99999881e-01 5.82850771e-13 5.08402782e-12 1.45266563e-10\n",
            "  1.46454004e-09 1.71566526e-07]\n",
            " [7.59846159e-08 9.99993920e-01 1.62880660e-08 5.58065816e-11\n",
            "  5.20196136e-06 1.23234445e-09 4.87378706e-08 1.34505092e-08\n",
            "  2.57345278e-07 4.19461088e-07]\n",
            " [1.37667763e-13 1.79816624e-08 6.99191034e-08 4.45319291e-13\n",
            "  9.99975681e-01 6.21359951e-12 8.43782238e-13 9.84305984e-07\n",
            "  1.19189451e-06 2.19976155e-05]\n",
            " [3.99557631e-09 5.26144510e-11 4.26613269e-08 1.44320145e-09\n",
            "  1.07107415e-04 1.21759669e-09 5.69989403e-11 1.10375751e-07\n",
            "  2.24264607e-08 9.99892712e-01]\n",
            " [2.58698407e-07 7.15168758e-10 3.30312916e-10 5.77846642e-08\n",
            "  7.34490524e-11 9.96482968e-01 3.51581350e-03 1.98111978e-11\n",
            "  8.51792493e-07 1.95010692e-08]]\n",
            "[7 2 1 0 4 1 4 9 5]\n"
          ],
          "name": "stdout"
        }
      ]
    },
    {
      "cell_type": "code",
      "metadata": {
        "id": "CT--y98_dr2T",
        "colab_type": "code",
        "colab": {}
      },
      "source": [
        "layer_dict = dict([(layer.name, layer) for layer in model.layers])"
      ],
      "execution_count": 0,
      "outputs": []
    },
    {
      "cell_type": "code",
      "metadata": {
        "id": "2GY4Upv4dsUR",
        "colab_type": "code",
        "colab": {
          "base_uri": "https://localhost:8080/",
          "height": 328
        },
        "outputId": "44dc1bc7-6b69-488a-9089-5d7184e47207"
      },
      "source": [
        "import numpy as np\n",
        "from matplotlib import pyplot as plt\n",
        "from keras import backend as K\n",
        "%matplotlib inline\n",
        "# util function to convert a tensor into a valid image\n",
        "def deprocess_image(x):\n",
        "    # normalize tensor: center on 0., ensure std is 0.1\n",
        "    x -= x.mean()\n",
        "    x /= (x.std() + 1e-5)\n",
        "    x *= 0.1\n",
        "\n",
        "    # clip to [0, 1]\n",
        "    x += 0.5\n",
        "    x = np.clip(x, 0, 1)\n",
        "\n",
        "    # convert to RGB array\n",
        "    x *= 255\n",
        "    #x = x.transpose((1, 2, 0))\n",
        "    x = np.clip(x, 0, 255).astype('uint8')\n",
        "    return x\n",
        "\n",
        "def vis_img_in_filter(img = np.array(X_train[2]).reshape((1, 28, 28, 1)).astype(np.float64), \n",
        "                      layer_name = 'conv2d_14'):\n",
        "    layer_output = layer_dict[layer_name].output\n",
        "    img_ascs = list()\n",
        "    for filter_index in range(layer_output.shape[3]):\n",
        "        # build a loss function that maximizes the activation\n",
        "        # of the nth filter of the layer considered\n",
        "        loss = K.mean(layer_output[:, :, :, filter_index])\n",
        "\n",
        "        # compute the gradient of the input picture wrt this loss\n",
        "        grads = K.gradients(loss, model.input)[0]\n",
        "\n",
        "        # normalization trick: we normalize the gradient\n",
        "        grads /= (K.sqrt(K.mean(K.square(grads))) + 1e-5)\n",
        "\n",
        "        # this function returns the loss and grads given the input picture\n",
        "        iterate = K.function([model.input], [loss, grads])\n",
        "\n",
        "        # step size for gradient ascent\n",
        "        step = 5.\n",
        "\n",
        "        img_asc = np.array(img)\n",
        "        # run gradient ascent for 20 steps\n",
        "        for i in range(20):\n",
        "            loss_value, grads_value = iterate([img_asc])\n",
        "            img_asc += grads_value * step\n",
        "\n",
        "        img_asc = img_asc[0]\n",
        "        img_ascs.append(deprocess_image(img_asc).reshape((28, 28)))\n",
        "        \n",
        "    if layer_output.shape[3] >= 35:\n",
        "        plot_x, plot_y = 6, 6\n",
        "    elif layer_output.shape[3] >= 23:\n",
        "        plot_x, plot_y = 4, 6\n",
        "    elif layer_output.shape[3] >= 11:\n",
        "        plot_x, plot_y = 2, 6\n",
        "    else:\n",
        "        plot_x, plot_y = 1, 2\n",
        "    fig, ax = plt.subplots(plot_x, plot_y, figsize = (12, 12))\n",
        "    ax[0, 0].imshow(img.reshape((28, 28)), cmap = 'gray')\n",
        "    ax[0, 0].set_title('Input image')\n",
        "    fig.suptitle('Input image and %s filters' % (layer_name,))\n",
        "    fig.tight_layout(pad = 0.3, rect = [0, 0, 0.9, 0.9])\n",
        "    for (x, y) in [(i, j) for i in range(plot_x) for j in range(plot_y)]:\n",
        "        if x == 0 and y == 0:\n",
        "            continue\n",
        "        ax[x, y].imshow(img_ascs[x * plot_y + y - 1], cmap = 'gray')\n",
        "        ax[x, y].set_title('filter %d' % (x * plot_y + y - 1))\n",
        "\n",
        "vis_img_in_filter()"
      ],
      "execution_count": 84,
      "outputs": [
        {
          "output_type": "error",
          "ename": "KeyError",
          "evalue": "ignored",
          "traceback": [
            "\u001b[0;31m---------------------------------------------------------------------------\u001b[0m",
            "\u001b[0;31mKeyError\u001b[0m                                  Traceback (most recent call last)",
            "\u001b[0;32m<ipython-input-84-19229f66b51a>\u001b[0m in \u001b[0;36m<module>\u001b[0;34m()\u001b[0m\n\u001b[1;32m     69\u001b[0m         \u001b[0max\u001b[0m\u001b[0;34m[\u001b[0m\u001b[0mx\u001b[0m\u001b[0;34m,\u001b[0m \u001b[0my\u001b[0m\u001b[0;34m]\u001b[0m\u001b[0;34m.\u001b[0m\u001b[0mset_title\u001b[0m\u001b[0;34m(\u001b[0m\u001b[0;34m'filter %d'\u001b[0m \u001b[0;34m%\u001b[0m \u001b[0;34m(\u001b[0m\u001b[0mx\u001b[0m \u001b[0;34m*\u001b[0m \u001b[0mplot_y\u001b[0m \u001b[0;34m+\u001b[0m \u001b[0my\u001b[0m \u001b[0;34m-\u001b[0m \u001b[0;36m1\u001b[0m\u001b[0;34m)\u001b[0m\u001b[0;34m)\u001b[0m\u001b[0;34m\u001b[0m\u001b[0;34m\u001b[0m\u001b[0m\n\u001b[1;32m     70\u001b[0m \u001b[0;34m\u001b[0m\u001b[0m\n\u001b[0;32m---> 71\u001b[0;31m \u001b[0mvis_img_in_filter\u001b[0m\u001b[0;34m(\u001b[0m\u001b[0;34m)\u001b[0m\u001b[0;34m\u001b[0m\u001b[0;34m\u001b[0m\u001b[0m\n\u001b[0m",
            "\u001b[0;32m<ipython-input-84-19229f66b51a>\u001b[0m in \u001b[0;36mvis_img_in_filter\u001b[0;34m(img, layer_name)\u001b[0m\n\u001b[1;32m     22\u001b[0m def vis_img_in_filter(img = np.array(X_train[2]).reshape((1, 28, 28, 1)).astype(np.float64), \n\u001b[1;32m     23\u001b[0m                       layer_name = 'conv2d_14'):\n\u001b[0;32m---> 24\u001b[0;31m     \u001b[0mlayer_output\u001b[0m \u001b[0;34m=\u001b[0m \u001b[0mlayer_dict\u001b[0m\u001b[0;34m[\u001b[0m\u001b[0mlayer_name\u001b[0m\u001b[0;34m]\u001b[0m\u001b[0;34m.\u001b[0m\u001b[0moutput\u001b[0m\u001b[0;34m\u001b[0m\u001b[0;34m\u001b[0m\u001b[0m\n\u001b[0m\u001b[1;32m     25\u001b[0m     \u001b[0mimg_ascs\u001b[0m \u001b[0;34m=\u001b[0m \u001b[0mlist\u001b[0m\u001b[0;34m(\u001b[0m\u001b[0;34m)\u001b[0m\u001b[0;34m\u001b[0m\u001b[0;34m\u001b[0m\u001b[0m\n\u001b[1;32m     26\u001b[0m     \u001b[0;32mfor\u001b[0m \u001b[0mfilter_index\u001b[0m \u001b[0;32min\u001b[0m \u001b[0mrange\u001b[0m\u001b[0;34m(\u001b[0m\u001b[0mlayer_output\u001b[0m\u001b[0;34m.\u001b[0m\u001b[0mshape\u001b[0m\u001b[0;34m[\u001b[0m\u001b[0;36m3\u001b[0m\u001b[0;34m]\u001b[0m\u001b[0;34m)\u001b[0m\u001b[0;34m:\u001b[0m\u001b[0;34m\u001b[0m\u001b[0;34m\u001b[0m\u001b[0m\n",
            "\u001b[0;31mKeyError\u001b[0m: 'conv2d_14'"
          ]
        }
      ]
    },
    {
      "cell_type": "code",
      "metadata": {
        "id": "9tvptcn8dxvp",
        "colab_type": "code",
        "colab": {}
      },
      "source": [
        ""
      ],
      "execution_count": 0,
      "outputs": []
    }
  ]
}