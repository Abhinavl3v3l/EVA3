{
  "nbformat": 4,
  "nbformat_minor": 0,
  "metadata": {
    "colab": {
      "name": "Copy of Session2.ipynb",
      "provenance": [],
      "collapsed_sections": [],
      "include_colab_link": true
    },
    "kernelspec": {
      "name": "python3",
      "display_name": "Python 3"
    },
    "accelerator": "GPU"
  },
  "cells": [
    {
      "cell_type": "markdown",
      "metadata": {
        "id": "view-in-github",
        "colab_type": "text"
      },
      "source": [
        "<a href=\"https://colab.research.google.com/github/Abhinavl3v3l/EVA3/blob/master/Assigment2.ipynb\" target=\"_parent\"><img src=\"https://colab.research.google.com/assets/colab-badge.svg\" alt=\"Open In Colab\"/></a>"
      ]
    },
    {
      "cell_type": "markdown",
      "metadata": {
        "id": "-nJ7YEw_vyjG",
        "colab_type": "text"
      },
      "source": [
        "# **Not an ideal network**"
      ]
    },
    {
      "cell_type": "code",
      "metadata": {
        "id": "kGWv5hBhv2jf",
        "colab_type": "code",
        "colab": {}
      },
      "source": [
        "# https://keras.io/\n",
        "!pip install -q keras                                                             # Open Source NN Library Download. \n",
        "import keras                                                                      # Loading/Importing the library. Access to useful functions to run CNN"
      ],
      "execution_count": 0,
      "outputs": []
    },
    {
      "cell_type": "code",
      "metadata": {
        "id": "wnMlDJQKv4VG",
        "colab_type": "code",
        "colab": {}
      },
      "source": [
        "import numpy as np                                                                # Importing the numpy library with alias np\n",
        "\n",
        "from keras.models import Sequential                                               # Sequential Module Imported\n",
        "from keras.layers import Flatten                                                  # Flatten Module Imported\n",
        "from keras.layers import Convolution2D                                            # Convolution2D Module Imported\n",
        "from keras.utils import np_utils                                                  # np_utils Module Imported\n",
        "\n",
        "from keras.datasets import mnist                                                  # mnist dataset is loaded. Grayscale images of 10 digits  0-9 , image dimensions 28x28 "
      ],
      "execution_count": 0,
      "outputs": []
    },
    {
      "cell_type": "code",
      "metadata": {
        "id": "8CdSu2lMwB9s",
        "colab_type": "code",
        "colab": {}
      },
      "source": [
        "(X_train, y_train), (X_test, y_test) = mnist.load_data()                          # mnist data divided into Training and Test Data\n",
        "                                                                                  # Where X_train are 60K 28x28 gray scale training images of numbers from [0-9] \n",
        "                                                                                  # y_train are label of numbers from [0-9]"
      ],
      "execution_count": 0,
      "outputs": []
    },
    {
      "cell_type": "code",
      "metadata": {
        "id": "tLaDf0-rwCmj",
        "colab_type": "code",
        "outputId": "9340a3e4-e928-4e1b-9cac-2d61326c5888",
        "colab": {
          "base_uri": "https://localhost:8080/",
          "height": 304
        }
      },
      "source": [
        "# Training data is divided into X_train and y_train\n",
        "print (X_train.shape)                                                             # X_train's shape contains 60K 28x28 array \n",
        "from matplotlib import pyplot as plt\n",
        "%matplotlib inline\n",
        "plt.imshow(X_train[0])                                                            # Displaying Image"
      ],
      "execution_count": 0,
      "outputs": [
        {
          "output_type": "stream",
          "text": [
            "(60000, 28, 28)\n"
          ],
          "name": "stdout"
        },
        {
          "output_type": "execute_result",
          "data": {
            "text/plain": [
              "<matplotlib.image.AxesImage at 0x7fe4bdfc84e0>"
            ]
          },
          "metadata": {
            "tags": []
          },
          "execution_count": 41
        },
        {
          "output_type": "display_data",
          "data": {
            "image/png": "[encoded data removed]",
            "text/plain": [
              "<Figure size 432x288 with 1 Axes>"
            ]
          },
          "metadata": {
            "tags": []
          }
        }
      ]
    },
    {
      "cell_type": "code",
      "metadata": {
        "id": "wt7uTz2ByVr1",
        "colab_type": "code",
        "outputId": "ecea97ca-199a-4a72-9e6c-c87f34b6f76d",
        "colab": {
          "base_uri": "https://localhost:8080/",
          "height": 69
        }
      },
      "source": [
        "X_train[0][6]"
      ],
      "execution_count": 0,
      "outputs": [
        {
          "output_type": "execute_result",
          "data": {
            "text/plain": [
              "array([  0,   0,   0,   0,   0,   0,   0,   0,  30,  36,  94, 154, 170,\n",
              "       253, 253, 253, 253, 253, 225, 172, 253, 242, 195,  64,   0,   0,\n",
              "         0,   0], dtype=uint8)"
            ]
          },
          "metadata": {
            "tags": []
          },
          "execution_count": 42
        }
      ]
    },
    {
      "cell_type": "code",
      "metadata": {
        "id": "erb11jNwwFwl",
        "colab_type": "code",
        "colab": {}
      },
      "source": [
        "# (60000, 28, 28) ->  (60000, 28, 28, 1)\n",
        "X_train = X_train.reshape(X_train.shape[0], 28, 28,1)\n",
        "X_test = X_test.reshape(X_test.shape[0], 28, 28,1)"
      ],
      "execution_count": 0,
      "outputs": []
    },
    {
      "cell_type": "code",
      "metadata": {
        "id": "njie3BygydTb",
        "colab_type": "code",
        "outputId": "7e55c9aa-c15f-43d0-f22c-806d57d5743e",
        "colab": {
          "base_uri": "https://localhost:8080/",
          "height": 503
        }
      },
      "source": [
        "X_train[0][6]"
      ],
      "execution_count": 0,
      "outputs": [
        {
          "output_type": "execute_result",
          "data": {
            "text/plain": [
              "array([[  0],\n",
              "       [  0],\n",
              "       [  0],\n",
              "       [  0],\n",
              "       [  0],\n",
              "       [  0],\n",
              "       [  0],\n",
              "       [  0],\n",
              "       [ 30],\n",
              "       [ 36],\n",
              "       [ 94],\n",
              "       [154],\n",
              "       [170],\n",
              "       [253],\n",
              "       [253],\n",
              "       [253],\n",
              "       [253],\n",
              "       [253],\n",
              "       [225],\n",
              "       [172],\n",
              "       [253],\n",
              "       [242],\n",
              "       [195],\n",
              "       [ 64],\n",
              "       [  0],\n",
              "       [  0],\n",
              "       [  0],\n",
              "       [  0]], dtype=uint8)"
            ]
          },
          "metadata": {
            "tags": []
          },
          "execution_count": 44
        }
      ]
    },
    {
      "cell_type": "code",
      "metadata": {
        "id": "RLK4YDoRwHet",
        "colab_type": "code",
        "outputId": "6c320729-f5f9-4ddb-888a-28767ee3326b",
        "colab": {
          "base_uri": "https://localhost:8080/",
          "height": 990
        }
      },
      "source": [
        "X_train = X_train.astype('float32')                                       # Convert to float type\n",
        "X_test = X_test.astype('float32')\n",
        "X_train /= 255                                                            # Floating Value ranges from [0,1]      \n",
        "X_test /= 255"
      ],
      "execution_count": 0,
      "outputs": [
        {
          "output_type": "stream",
          "text": [
            "[[  0.]\n",
            " [  0.]\n",
            " [  0.]\n",
            " [  0.]\n",
            " [  0.]\n",
            " [  0.]\n",
            " [  0.]\n",
            " [  0.]\n",
            " [ 30.]\n",
            " [ 36.]\n",
            " [ 94.]\n",
            " [154.]\n",
            " [170.]\n",
            " [253.]\n",
            " [253.]\n",
            " [253.]\n",
            " [253.]\n",
            " [253.]\n",
            " [225.]\n",
            " [172.]\n",
            " [253.]\n",
            " [242.]\n",
            " [195.]\n",
            " [ 64.]\n",
            " [  0.]\n",
            " [  0.]\n",
            " [  0.]\n",
            " [  0.]]\n",
            "[[0.        ]\n",
            " [0.        ]\n",
            " [0.        ]\n",
            " [0.        ]\n",
            " [0.        ]\n",
            " [0.        ]\n",
            " [0.        ]\n",
            " [0.        ]\n",
            " [0.11764706]\n",
            " [0.14117648]\n",
            " [0.36862746]\n",
            " [0.6039216 ]\n",
            " [0.6666667 ]\n",
            " [0.99215686]\n",
            " [0.99215686]\n",
            " [0.99215686]\n",
            " [0.99215686]\n",
            " [0.99215686]\n",
            " [0.88235295]\n",
            " [0.6745098 ]\n",
            " [0.99215686]\n",
            " [0.9490196 ]\n",
            " [0.7647059 ]\n",
            " [0.2509804 ]\n",
            " [0.        ]\n",
            " [0.        ]\n",
            " [0.        ]\n",
            " [0.        ]]\n"
          ],
          "name": "stdout"
        }
      ]
    },
    {
      "cell_type": "code",
      "metadata": {
        "id": "JNKLOmhlwJQl",
        "colab_type": "code",
        "outputId": "db781093-f165-4b11-dbb9-5b62da5a8de6",
        "colab": {
          "base_uri": "https://localhost:8080/",
          "height": 35
        }
      },
      "source": [
        "y_train[:10]"
      ],
      "execution_count": 0,
      "outputs": [
        {
          "output_type": "execute_result",
          "data": {
            "text/plain": [
              "array([5, 0, 4, 1, 9, 2, 1, 3, 1, 4], dtype=uint8)"
            ]
          },
          "metadata": {
            "tags": []
          },
          "execution_count": 22
        }
      ]
    },
    {
      "cell_type": "code",
      "metadata": {
        "id": "YusMJguiwKsM",
        "colab_type": "code",
        "colab": {}
      },
      "source": [
        "# Convert 1-dimensional class arrays to 10-dimensional class matrices\n",
        "Y_train = np_utils.to_categorical(y_train, 10)\n",
        "Y_test = np_utils.to_categorical(y_test, 10)"
      ],
      "execution_count": 0,
      "outputs": []
    },
    {
      "cell_type": "code",
      "metadata": {
        "id": "upxc99AswMW0",
        "colab_type": "code",
        "outputId": "97d4b0a4-5657-446c-8560-f75cb8918502",
        "colab": {
          "base_uri": "https://localhost:8080/",
          "height": 195
        }
      },
      "source": [
        "Y_train[:10]  ## y_train to Y_train  - example,5 value is converted to an array where 5th element of array is 1(lit) and rest all is 0\n"
      ],
      "execution_count": 0,
      "outputs": [
        {
          "output_type": "execute_result",
          "data": {
            "text/plain": [
              "array([[0., 0., 0., 0., 0., 1., 0., 0., 0., 0.],\n",
              "       [1., 0., 0., 0., 0., 0., 0., 0., 0., 0.],\n",
              "       [0., 0., 0., 0., 1., 0., 0., 0., 0., 0.],\n",
              "       [0., 1., 0., 0., 0., 0., 0., 0., 0., 0.],\n",
              "       [0., 0., 0., 0., 0., 0., 0., 0., 0., 1.],\n",
              "       [0., 0., 1., 0., 0., 0., 0., 0., 0., 0.],\n",
              "       [0., 1., 0., 0., 0., 0., 0., 0., 0., 0.],\n",
              "       [0., 0., 0., 1., 0., 0., 0., 0., 0., 0.],\n",
              "       [0., 1., 0., 0., 0., 0., 0., 0., 0., 0.],\n",
              "       [0., 0., 0., 0., 1., 0., 0., 0., 0., 0.]], dtype=float32)"
            ]
          },
          "metadata": {
            "tags": []
          },
          "execution_count": 24
        }
      ]
    },
    {
      "cell_type": "code",
      "metadata": {
        "id": "irTVUE47wNwr",
        "colab_type": "code",
        "outputId": "4761876e-8634-4308-b29e-ada751bf631b",
        "colab": {
          "base_uri": "https://localhost:8080/",
          "height": 835
        }
      },
      "source": [
        "from keras.layers import Activation, MaxPooling2D\n",
        "\n",
        "model = Sequential() \n",
        "model.add(Convolution2D(32, 3, 3, activation='relu', input_shape=(28,28,1)))    # Input Image size 28x28x1, 3x3 convolution with 32 channels,     GRF = 3, Parameters = 3x3x32x1  + 32        = 320           Output Image = 26x26x32\n",
        "model.add(Convolution2D(64, 3, 3, activation='relu'))                           # Input Image size 26x26x32, 3x3 convolution with 64 channels,    GRF = 5, parameters = 3x3x32x64 + 64        = 18496         Output Image = 24x24x64\n",
        "model.add(Convolution2D(128, 3, 3, activation='relu'))                          # Input Image size 24x24x64, 3x3 convolution with 128 channels,   GRF = 7, parameters = 3x3x64x128 + 128      = 73856         Output Image = 22x22x128\n",
        "\n",
        "model.add(MaxPooling2D(pool_size=(2, 2)))                                       # Input Image size 22x22x128, Max Pooling =2x2                    GRF = 14, parameters = 0                                    Output Image = 11x11x128\n",
        "\n",
        "model.add(Convolution2D(256, 3, 3, activation='relu'))                          # Input Image size 11x11x128, 3x3 convolution with 256 channels,  GRF = 16, parameters = 3x3x256x128 + 256    = 295168        Output Image = 9x9x256\n",
        "model.add(Convolution2D(512, 3, 3, activation='relu'))                          # Input Image size 9x9x256, 3x3 convolution with 512 channels,    GRF = 18, parameters = 3x3x512x256 + 512    = 1180160       Output Image = 7x7x512\n",
        "model.add(Convolution2D(1024, 3, 3, activation='relu'))                         # Input Image size 7x7x512, 3x3 convolution with 1024 channels,   GRF = 20, parameters = 3x3x1024x512 + 1024  = 4719616       Output Image = 5x5x1024\n",
        "model.add(Convolution2D(2048, 3, 3, activation='relu'))                         # Input Image size 5x5x1024, 3x3 convolution with 2048 channels,  GRF = 22, parameters = 3x3x2048x1024 + 2046 = 18876416      Output Image = 3x3x2046\n",
        "model.add(Convolution2D(10, 3, 3, activation='relu'))                           # Input Image size 3x3x2048, 3x3 convolution with 10 channels,    GRF = 24, parameters = 3x3x10x2046 + 10     = 184330        Output Image = 1x1x10\n",
        "                                                                                # GRF should be 28 not 24\n",
        "model.add(Flatten())\n",
        "model.add(Activation('softmax'))\n",
        "\n",
        "model.summary()"
      ],
      "execution_count": 0,
      "outputs": [
        {
          "output_type": "stream",
          "text": [
            "Model: \"sequential_2\"\n",
            "_________________________________________________________________\n",
            "Layer (type)                 Output Shape              Param #   \n",
            "=================================================================\n",
            "conv2d_9 (Conv2D)            (None, 26, 26, 32)        320       \n",
            "_________________________________________________________________\n",
            "conv2d_10 (Conv2D)           (None, 24, 24, 64)        18496     \n",
            "_________________________________________________________________\n",
            "conv2d_11 (Conv2D)           (None, 22, 22, 128)       73856     \n",
            "_________________________________________________________________\n",
            "max_pooling2d_2 (MaxPooling2 (None, 11, 11, 128)       0         \n",
            "_________________________________________________________________\n",
            "conv2d_12 (Conv2D)           (None, 9, 9, 256)         295168    \n",
            "_________________________________________________________________\n",
            "conv2d_13 (Conv2D)           (None, 7, 7, 512)         1180160   \n",
            "_________________________________________________________________\n",
            "conv2d_14 (Conv2D)           (None, 5, 5, 1024)        4719616   \n",
            "_________________________________________________________________\n",
            "conv2d_15 (Conv2D)           (None, 3, 3, 2048)        18876416  \n",
            "_________________________________________________________________\n",
            "conv2d_16 (Conv2D)           (None, 1, 1, 10)          184330    \n",
            "_________________________________________________________________\n",
            "flatten_2 (Flatten)          (None, 10)                0         \n",
            "_________________________________________________________________\n",
            "activation_2 (Activation)    (None, 10)                0         \n",
            "=================================================================\n",
            "Total params: 25,348,362\n",
            "Trainable params: 25,348,362\n",
            "Non-trainable params: 0\n",
            "_________________________________________________________________\n"
          ],
          "name": "stdout"
        },
        {
          "output_type": "stream",
          "text": [
            "/usr/local/lib/python3.6/dist-packages/ipykernel_launcher.py:4: UserWarning: Update your `Conv2D` call to the Keras 2 API: `Conv2D(32, (3, 3), activation=\"relu\", input_shape=(28, 28, 1...)`\n",
            "  after removing the cwd from sys.path.\n",
            "/usr/local/lib/python3.6/dist-packages/ipykernel_launcher.py:5: UserWarning: Update your `Conv2D` call to the Keras 2 API: `Conv2D(64, (3, 3), activation=\"relu\")`\n",
            "  \"\"\"\n",
            "/usr/local/lib/python3.6/dist-packages/ipykernel_launcher.py:6: UserWarning: Update your `Conv2D` call to the Keras 2 API: `Conv2D(128, (3, 3), activation=\"relu\")`\n",
            "  \n",
            "/usr/local/lib/python3.6/dist-packages/ipykernel_launcher.py:10: UserWarning: Update your `Conv2D` call to the Keras 2 API: `Conv2D(256, (3, 3), activation=\"relu\")`\n",
            "  # Remove the CWD from sys.path while we load stuff.\n",
            "/usr/local/lib/python3.6/dist-packages/ipykernel_launcher.py:11: UserWarning: Update your `Conv2D` call to the Keras 2 API: `Conv2D(512, (3, 3), activation=\"relu\")`\n",
            "  # This is added back by InteractiveShellApp.init_path()\n",
            "/usr/local/lib/python3.6/dist-packages/ipykernel_launcher.py:12: UserWarning: Update your `Conv2D` call to the Keras 2 API: `Conv2D(1024, (3, 3), activation=\"relu\")`\n",
            "  if sys.path[0] == '':\n",
            "/usr/local/lib/python3.6/dist-packages/ipykernel_launcher.py:13: UserWarning: Update your `Conv2D` call to the Keras 2 API: `Conv2D(2048, (3, 3), activation=\"relu\")`\n",
            "  del sys.path[0]\n",
            "/usr/local/lib/python3.6/dist-packages/ipykernel_launcher.py:14: UserWarning: Update your `Conv2D` call to the Keras 2 API: `Conv2D(10, (3, 3), activation=\"relu\")`\n",
            "  \n"
          ],
          "name": "stderr"
        }
      ]
    },
    {
      "cell_type": "code",
      "metadata": {
        "id": "VYZOpRb6yG7_",
        "colab_type": "code",
        "colab": {}
      },
      "source": [
        "model.compile(loss='categorical_crossentropy',\n",
        "             optimizer='adam',\n",
        "             metrics=['accuracy'])"
      ],
      "execution_count": 0,
      "outputs": []
    },
    {
      "cell_type": "code",
      "metadata": {
        "id": "5O248wVQyMft",
        "colab_type": "code",
        "outputId": "ae055a4c-0a73-4b03-8f12-a2d9a2a386e0",
        "colab": {
          "base_uri": "https://localhost:8080/",
          "height": 426
        }
      },
      "source": [
        "model.fit(X_train, Y_train, batch_size=32, nb_epoch=10, verbose=1)                                      # Code is learning, which image represents which class. "
      ],
      "execution_count": 0,
      "outputs": [
        {
          "output_type": "stream",
          "text": [
            "/usr/local/lib/python3.6/dist-packages/ipykernel_launcher.py:1: UserWarning: The `nb_epoch` argument in `fit` has been renamed `epochs`.\n",
            "  \"\"\"Entry point for launching an IPython kernel.\n"
          ],
          "name": "stderr"
        },
        {
          "output_type": "stream",
          "text": [
            "Epoch 1/10\n",
            "60000/60000 [==============================] - 218s 4ms/step - loss: 2.3024 - acc: 0.0994\n",
            "Epoch 2/10\n",
            "60000/60000 [==============================] - 217s 4ms/step - loss: 2.3026 - acc: 0.0987\n",
            "Epoch 3/10\n",
            "60000/60000 [==============================] - 216s 4ms/step - loss: 2.3026 - acc: 0.0987\n",
            "Epoch 4/10\n",
            "60000/60000 [==============================] - 217s 4ms/step - loss: 2.3026 - acc: 0.0987\n",
            "Epoch 5/10\n",
            "60000/60000 [==============================] - 216s 4ms/step - loss: 2.3026 - acc: 0.0987\n",
            "Epoch 6/10\n",
            "60000/60000 [==============================] - 217s 4ms/step - loss: 2.3026 - acc: 0.0987\n",
            "Epoch 7/10\n",
            "60000/60000 [==============================] - 217s 4ms/step - loss: 2.3026 - acc: 0.0987\n",
            "Epoch 8/10\n",
            "60000/60000 [==============================] - 217s 4ms/step - loss: 2.3026 - acc: 0.0987\n",
            "Epoch 9/10\n",
            "60000/60000 [==============================] - 216s 4ms/step - loss: 2.3026 - acc: 0.0987\n",
            "Epoch 10/10\n",
            "60000/60000 [==============================] - 217s 4ms/step - loss: 2.3026 - acc: 0.0987\n"
          ],
          "name": "stdout"
        },
        {
          "output_type": "execute_result",
          "data": {
            "text/plain": [
              "<keras.callbacks.History at 0x7f20e0329978>"
            ]
          },
          "metadata": {
            "tags": []
          },
          "execution_count": 27
        }
      ]
    },
    {
      "cell_type": "code",
      "metadata": {
        "id": "Sst4KneiyOL5",
        "colab_type": "code",
        "colab": {}
      },
      "source": [
        "score = model.evaluate(X_test, Y_test, verbose=0)                                       # Apply model over test data "
      ],
      "execution_count": 0,
      "outputs": []
    },
    {
      "cell_type": "code",
      "metadata": {
        "id": "CfJiXOKsyj4y",
        "colab_type": "code",
        "outputId": "fc9897c2-fa26-48d4-f1da-8e3e479589ed",
        "colab": {
          "base_uri": "https://localhost:8080/",
          "height": 35
        }
      },
      "source": [
        "print(score)                                                                            # How accurate is the model. Model is 10% accurate"
      ],
      "execution_count": 0,
      "outputs": [
        {
          "output_type": "stream",
          "text": [
            "[2.3025851249694824, 0.098]\n"
          ],
          "name": "stdout"
        }
      ]
    },
    {
      "cell_type": "code",
      "metadata": {
        "id": "hwLSXt7nyn_0",
        "colab_type": "code",
        "colab": {}
      },
      "source": [
        "y_pred = model.predict(X_test)"
      ],
      "execution_count": 0,
      "outputs": []
    },
    {
      "cell_type": "code",
      "metadata": {
        "id": "WWKKoOKwyppN",
        "colab_type": "code",
        "outputId": "e32e1f48-d8b2-41ec-a471-eb4a7151c491",
        "colab": {
          "base_uri": "https://localhost:8080/",
          "height": 195
        }
      },
      "source": [
        "print(y_pred[:9])\n",
        "print(y_test[:9])                                                                        # Model predits any image is 10% of everything."
      ],
      "execution_count": 0,
      "outputs": [
        {
          "output_type": "stream",
          "text": [
            "[[0.1 0.1 0.1 0.1 0.1 0.1 0.1 0.1 0.1 0.1]\n",
            " [0.1 0.1 0.1 0.1 0.1 0.1 0.1 0.1 0.1 0.1]\n",
            " [0.1 0.1 0.1 0.1 0.1 0.1 0.1 0.1 0.1 0.1]\n",
            " [0.1 0.1 0.1 0.1 0.1 0.1 0.1 0.1 0.1 0.1]\n",
            " [0.1 0.1 0.1 0.1 0.1 0.1 0.1 0.1 0.1 0.1]\n",
            " [0.1 0.1 0.1 0.1 0.1 0.1 0.1 0.1 0.1 0.1]\n",
            " [0.1 0.1 0.1 0.1 0.1 0.1 0.1 0.1 0.1 0.1]\n",
            " [0.1 0.1 0.1 0.1 0.1 0.1 0.1 0.1 0.1 0.1]\n",
            " [0.1 0.1 0.1 0.1 0.1 0.1 0.1 0.1 0.1 0.1]]\n",
            "[7 2 1 0 4 1 4 9 5]\n"
          ],
          "name": "stdout"
        }
      ]
    },
    {
      "cell_type": "markdown",
      "metadata": {
        "id": "S5mZLWi0tlk6",
        "colab_type": "text"
      },
      "source": [
        "## Whats wrong with network.\n",
        "\n",
        "1. Network take a lot of time learning the parameters and adjsuting the kernel.\n",
        "2. Too many parameter to learn a small image. (25,348,362)\n",
        "3. Model predicts any image to be 10% of every class.\n",
        "\n",
        "## Why ?\n",
        "1. An image is taken and convolved with 32 channels then  64 and so on with one max pooling layer. \n",
        "2. All the object the size of image are shrunk to a size where they make little to no sense. \n",
        "3. The last layer has 3x3 convolved with 1x1x10 to classify then to one of the then classes.\n",
        "4. But the flatten image or pixel values end up becoming  very similar to each other hence the value are 10% per class.\n",
        "5. The amount of parameters used is ridiculous hence the amount of time takes to adjust those parameters or kernels is insane. \n",
        "\n",
        "6. According to session most of the kernels would be empty or zero to avoid **Overfitting**\n",
        "\n",
        "\n",
        "## According to me\n",
        "1. According to session amount of kernel and layers depends on image size and dataset size. Hence the kernels to be used and layers to be used need to be adjusted. \n",
        "2. The receptive field should be decreased to 5*5 then convolved with 1 * 1 * 10 and then flatten to make more sense/accuracy."
      ]
    }
  ]
}